{
 "cells": [
  {
   "cell_type": "code",
   "execution_count": 1,
   "metadata": {
    "execution": {
     "iopub.execute_input": "2023-05-08T08:39:29.209255Z",
     "iopub.status.busy": "2023-05-08T08:39:29.208931Z",
     "iopub.status.idle": "2023-05-08T08:39:29.215855Z",
     "shell.execute_reply": "2023-05-08T08:39:29.214854Z",
     "shell.execute_reply.started": "2023-05-08T08:39:29.209201Z"
    }
   },
   "outputs": [],
   "source": [
    "# Laoding Basic data analysis libraries\n",
    "\n",
    "import numpy as np # linear algebra\n",
    "import pandas as pd # data processing, CSV file I/O (e.g. pd.read_csv)\n"
   ]
  },
  {
   "cell_type": "code",
   "execution_count": 2,
   "metadata": {
    "execution": {
     "iopub.execute_input": "2023-05-08T01:47:46.129739Z",
     "iopub.status.busy": "2023-05-08T01:47:46.129066Z",
     "iopub.status.idle": "2023-05-08T01:47:46.143880Z",
     "shell.execute_reply": "2023-05-08T01:47:46.142524Z",
     "shell.execute_reply.started": "2023-05-08T01:47:46.129668Z"
    }
   },
   "outputs": [
    {
     "data": {
      "text/html": [
       "        <script type=\"text/javascript\">\n",
       "        window.PlotlyConfig = {MathJaxConfig: 'local'};\n",
       "        if (window.MathJax && window.MathJax.Hub && window.MathJax.Hub.Config) {window.MathJax.Hub.Config({SVG: {font: \"STIX-Web\"}});}\n",
       "        if (typeof require !== 'undefined') {\n",
       "        require.undef(\"plotly\");\n",
       "        requirejs.config({\n",
       "            paths: {\n",
       "                'plotly': ['https://cdn.plot.ly/plotly-2.20.0.min']\n",
       "            }\n",
       "        });\n",
       "        require(['plotly'], function(Plotly) {\n",
       "            window._Plotly = Plotly;\n",
       "        });\n",
       "        }\n",
       "        </script>\n",
       "        "
      ]
     },
     "metadata": {},
     "output_type": "display_data"
    }
   ],
   "source": [
    "# Basic programming and data visualization libraries\n",
    "import sys\n",
    "import os\n",
    "import pandas as pd\n",
    "import numpy as np\n",
    "\n",
    "import matplotlib.pyplot as plt\n",
    "import seaborn as sns\n",
    "from IPython.display import display\n",
    "%matplotlib inline\n",
    "\n",
    "import plotly.offline as py\n",
    "import plotly.graph_objs as go\n",
    "import plotly.tools as tls\n",
    "py.init_notebook_mode(connected=True)\n",
    "\n",
    "import warnings\n",
    "warnings.filterwarnings('ignore')"
   ]
  },
  {
   "cell_type": "code",
   "execution_count": 3,
   "metadata": {
    "execution": {
     "iopub.execute_input": "2023-05-08T01:47:46.145844Z",
     "iopub.status.busy": "2023-05-08T01:47:46.145294Z",
     "iopub.status.idle": "2023-05-08T01:47:46.154588Z",
     "shell.execute_reply": "2023-05-08T01:47:46.153300Z",
     "shell.execute_reply.started": "2023-05-08T01:47:46.145781Z"
    }
   },
   "outputs": [],
   "source": [
    "def hist_perc(df_col,bin_size,rng_st,rng_end):\n",
    "    import numpy as np\n",
    "    import matplotlib.pyplot as plt\n",
    "    import matplotlib.ticker as mticker\n",
    "    #plt.hist(x = train_df.RevolvingUtilizationOfUnsecuredLines,bins=10,range=(,1))\n",
    "    plt.hist(x = df_col,bins=bin_size,range=(rng_st,rng_end))\n",
    "    formatter = mticker.FuncFormatter(lambda v, pos: str(round((v*100/train_df.shape[0]),2)))\n",
    "    plt.gca().yaxis.set_major_formatter(formatter)\n",
    "    plt.show()\n",
    "\n"
   ]
  },
  {
   "cell_type": "code",
   "execution_count": 4,
   "metadata": {
    "execution": {
     "iopub.execute_input": "2023-05-08T01:47:46.157191Z",
     "iopub.status.busy": "2023-05-08T01:47:46.156379Z",
     "iopub.status.idle": "2023-05-08T01:47:46.172571Z",
     "shell.execute_reply": "2023-05-08T01:47:46.171674Z",
     "shell.execute_reply.started": "2023-05-08T01:47:46.157112Z"
    }
   },
   "outputs": [],
   "source": [
    "def plotHist(df,nameOfFeature):\n",
    "    cls_train = df[nameOfFeature]\n",
    "    data_array = cls_train\n",
    "    hist_data = np.histogram(data_array)\n",
    "    binsize = .5\n",
    "\n",
    "    trace1 = go.Histogram(\n",
    "        x=data_array,\n",
    "        histnorm=\"\",\n",
    "        name='Histogram of Wind Speed',\n",
    "        autobinx=False,\n",
    "        xbins=dict(\n",
    "            start=df[nameOfFeature].min()-1,\n",
    "            end=df[nameOfFeature].max()+1,\n",
    "            size=binsize\n",
    "        )\n",
    "    )\n",
    "\n",
    "    trace_data = [trace1]\n",
    "    layout = go.Layout(\n",
    "        bargroupgap=0.3,\n",
    "         title='The distribution of ' + nameOfFeature,\n",
    "        xaxis=dict(\n",
    "            title=nameOfFeature,\n",
    "            titlefont=dict(\n",
    "                family='Courier New, monospace',\n",
    "                size=18,\n",
    "                color='#7f7f7f'\n",
    "            )\n",
    "        ),\n",
    "        yaxis=dict(\n",
    "            title='Number of labels',\n",
    "            titlefont=dict(\n",
    "                family='Courier New, monospace',\n",
    "                size=19,\n",
    "                color='#7f7f7f'\n",
    "            )\n",
    "        )\n",
    "    )\n",
    "    fig = go.Figure(data=trace_data, layout=layout)\n",
    "    py.iplot(fig)"
   ]
  },
  {
   "cell_type": "code",
   "execution_count": 5,
   "metadata": {
    "execution": {
     "iopub.execute_input": "2023-05-08T01:47:46.174954Z",
     "iopub.status.busy": "2023-05-08T01:47:46.174266Z",
     "iopub.status.idle": "2023-05-08T01:47:46.190944Z",
     "shell.execute_reply": "2023-05-08T01:47:46.190040Z",
     "shell.execute_reply.started": "2023-05-08T01:47:46.174870Z"
    }
   },
   "outputs": [],
   "source": [
    "from scipy.stats import skew\n",
    "from scipy.stats import kurtosis\n",
    "def plotBarCat(df,feature,target):\n",
    "    x0 = df[df[target]==0][feature]\n",
    "    x1 = df[df[target]==1][feature]\n",
    "\n",
    "    trace1 = go.Histogram(\n",
    "        x=x0,\n",
    "        opacity=0.75\n",
    "    )\n",
    "    trace2 = go.Histogram(\n",
    "        x=x1,\n",
    "        opacity=0.75\n",
    "    )\n",
    "\n",
    "    data = [trace1, trace2]\n",
    "    layout = go.Layout(barmode='overlay',\n",
    "                      title=feature,\n",
    "                       yaxis=dict(title='Count'\n",
    "        ))\n",
    "    fig = go.Figure(data=data, layout=layout)\n",
    "\n",
    "    py.iplot(fig, filename='overlaid histogram')\n",
    "    \n",
    "    def DescribeFloatSkewKurt(df,target):\n",
    "        \"\"\"\n",
    "            A fundamental task in many statistical analyses is to characterize\n",
    "            the location and variability of a data set. A further\n",
    "            characterization of the data includes skewness and kurtosis.\n",
    "            Skewness is a measure of symmetry, or more precisely, the lack\n",
    "            of symmetry. A distribution, or data set, is symmetric if it\n",
    "            looks the same to the left and right of the center point.\n",
    "            Kurtosis is a measure of whether the data are heavy-tailed\n",
    "            or light-tailed relative to a normal distribution. That is,\n",
    "            data sets with high kurtosis tend to have heavy tails, or\n",
    "            outliers. Data sets with low kurtosis tend to have light\n",
    "            tails, or lack of outliers. A uniform distribution would\n",
    "            be the extreme case\n",
    "        \"\"\"\n",
    "        print('-*-'*25)\n",
    "        print(\"{0} mean : \".format(target), np.mean(df[feature]))\n",
    "        print(\"{0} var  : \".format(target), np.var(df[feature]))\n",
    "        print(\"{0} skew : \".format(target), skew(df[feature]))\n",
    "        print(\"{0} kurt : \".format(target), kurtosis(df[feature]))\n",
    "        print('-*-'*25)\n",
    "    \n",
    "    DescribeFloatSkewKurt(df,feature)"
   ]
  },
  {
   "cell_type": "code",
   "execution_count": 6,
   "metadata": {
    "execution": {
     "iopub.execute_input": "2023-05-08T01:47:46.193280Z",
     "iopub.status.busy": "2023-05-08T01:47:46.192581Z",
     "iopub.status.idle": "2023-05-08T01:47:46.209907Z",
     "shell.execute_reply": "2023-05-08T01:47:46.208493Z",
     "shell.execute_reply.started": "2023-05-08T01:47:46.193212Z"
    }
   },
   "outputs": [],
   "source": [
    "def OutLiersBox(df,nameOfFeature):\n",
    "    \n",
    "    trace0 = go.Box(\n",
    "        y = df[nameOfFeature],\n",
    "        name = \"All Points\",\n",
    "        jitter = 0.3,\n",
    "        pointpos = -1.8,\n",
    "        boxpoints = 'all',\n",
    "        marker = dict(\n",
    "            color = 'rgb(7,40,89)'),\n",
    "        line = dict(\n",
    "            color = 'rgb(7,40,89)')\n",
    "    )\n",
    "\n",
    "    trace1 = go.Box(\n",
    "        y = df[nameOfFeature],\n",
    "        name = \"Only Whiskers\",\n",
    "        boxpoints = False,\n",
    "        marker = dict(\n",
    "            color = 'rgb(9,56,125)'),\n",
    "        line = dict(\n",
    "            color = 'rgb(9,56,125)')\n",
    "    )\n",
    "\n",
    "    trace2 = go.Box(\n",
    "        y = df[nameOfFeature],\n",
    "        name = \"Suspected Outliers\",\n",
    "        boxpoints = 'suspectedoutliers',\n",
    "        marker = dict(\n",
    "            color = 'rgb(8,81,156)',\n",
    "            outliercolor = 'rgba(219, 64, 82, 0.6)',\n",
    "            line = dict(\n",
    "                outliercolor = 'rgba(219, 64, 82, 0.6)',\n",
    "                outlierwidth = 2)),\n",
    "        line = dict(\n",
    "            color = 'rgb(8,81,156)')\n",
    "    )\n",
    "\n",
    "    trace3 = go.Box(\n",
    "        y = df[nameOfFeature],\n",
    "        name = \"Whiskers and Outliers\",\n",
    "        boxpoints = 'outliers',\n",
    "        marker = dict(\n",
    "            color = 'rgb(107,174,214)'),\n",
    "        line = dict(\n",
    "            color = 'rgb(107,174,214)')\n",
    "    )\n",
    "\n",
    "    data = [trace0,trace1,trace2,trace3]\n",
    "\n",
    "    layout = go.Layout(\n",
    "        title = \"{} Outliers\".format(nameOfFeature)\n",
    "    )\n",
    "\n",
    "    fig = go.Figure(data=data,layout=layout)\n",
    "    py.iplot(fig, filename = \"Outliers\")\n"
   ]
  },
  {
   "cell_type": "code",
   "execution_count": 7,
   "metadata": {
    "execution": {
     "iopub.execute_input": "2023-05-08T01:47:46.321772Z",
     "iopub.status.busy": "2023-05-08T01:47:46.321048Z",
     "iopub.status.idle": "2023-05-08T01:47:47.007107Z",
     "shell.execute_reply": "2023-05-08T01:47:47.006154Z",
     "shell.execute_reply.started": "2023-05-08T01:47:46.321676Z"
    }
   },
   "outputs": [],
   "source": [
    "from scipy import stats\n",
    "import matplotlib.pyplot as plt\n",
    "import matplotlib.font_manager\n",
    "\n",
    "from sklearn import svm\n",
    "from sklearn.covariance import EllipticEnvelope\n",
    "from sklearn.ensemble import IsolationForest\n",
    "from sklearn.neighbors import LocalOutlierFactor\n",
    "\n",
    "def OutLierDetection(df,feature1,feature2,outliers_fraction=.1):\n",
    "    \n",
    "    new_df = df.copy()\n",
    "    rng = np.random.RandomState(42)\n",
    "\n",
    "    # Example settings\n",
    "    n_samples = new_df.shape[0]\n",
    "#     outliers_fraction = 0.2 # ************************************** imp\n",
    "    clusters_separation = [0]#, 1, 2]\n",
    "\n",
    "    # define two outlier detection tools to be compared\n",
    "    classifiers = {\n",
    "        \"One-Class SVM\": svm.OneClassSVM(nu=0.95 * outliers_fraction + 0.05,\n",
    "                                         kernel=\"rbf\", gamma=0.1),\n",
    "        \"Robust covariance\": EllipticEnvelope(contamination=outliers_fraction),\n",
    "        \"Isolation Forest\": IsolationForest(max_samples=n_samples,\n",
    "                                            contamination=outliers_fraction,\n",
    "                                            random_state=rng),\n",
    "        \"Local Outlier Factor\": LocalOutlierFactor(\n",
    "            n_neighbors=35,\n",
    "            contamination=outliers_fraction)}\n",
    "\n",
    "    \n",
    "    xx, yy = np.meshgrid(np.linspace(new_df[feature1].min()-new_df[feature1].min()*10/100, \n",
    "                                     new_df[feature1].max()+new_df[feature1].max()*10/100, 50),\n",
    "                         np.linspace(new_df[feature2].min()-new_df[feature2].min()*10/100,\n",
    "                                     new_df[feature2].max()+new_df[feature2].max()*10/100, 50))\n",
    "\n",
    "\n",
    "    n_inliers = int((1. - outliers_fraction) * n_samples)\n",
    "    n_outliers = int(outliers_fraction * n_samples)\n",
    "    ground_truth = np.ones(n_samples, dtype=int)\n",
    "    ground_truth[-n_outliers:] = -1\n",
    "\n",
    "    # Fit the problem with varying cluster separation\n",
    "    for i, offset in enumerate(clusters_separation):\n",
    "        np.random.seed(42)\n",
    "        # Data generation\n",
    "\n",
    "        X = new_df[[feature1,feature2]].values.tolist()\n",
    "\n",
    "        # Fit the model\n",
    "        plt.figure(figsize=(9, 7))\n",
    "        for i, (clf_name, clf) in enumerate(classifiers.items()):\n",
    "            # fit the data and tag outliers\n",
    "            if clf_name == \"Local Outlier Factor\":\n",
    "                y_pred = clf.fit_predict(X)\n",
    "                scores_pred = clf.negative_outlier_factor_\n",
    "            else:\n",
    "                clf.fit(X)\n",
    "                scores_pred = clf.decision_function(X)\n",
    "                y_pred = clf.predict(X)\n",
    "            threshold = stats.scoreatpercentile(scores_pred,\n",
    "                                                100 * outliers_fraction)\n",
    "            n_errors = (y_pred != ground_truth).sum()\n",
    "            \n",
    "            unique, counts = np.unique(y_pred,return_counts=True)\n",
    "            print(clf_name,dict(zip(unique, counts)))\n",
    "            \n",
    "            new_df[feature1+'_'+feature2+clf_name] = y_pred\n",
    "#             print(clf_name,y_pred) \n",
    "            # plot the levels lines and the points\n",
    "            if clf_name == \"Local Outlier Factor\":\n",
    "                # decision_function is private for LOF\n",
    "                Z = clf._decision_function(np.c_[xx.ravel(), yy.ravel()])\n",
    "            else:\n",
    "                Z = clf.decision_function(np.c_[xx.ravel(), yy.ravel()])\n",
    "            Z = Z.reshape(xx.shape)\n",
    "            subplot = plt.subplot(2, 2, i + 1)\n",
    "            subplot.contourf(xx, yy, Z, levels=np.linspace(Z.min(), threshold, 7),\n",
    "                             cmap=plt.cm.Blues_r)\n",
    "            a = subplot.contour(xx, yy, Z, levels=[threshold],\n",
    "                                linewidths=2, colors='red')\n",
    "            subplot.contourf(xx, yy, Z, levels=[threshold, Z.max()],\n",
    "                             colors='orange')\n",
    "            b = plt.scatter(new_df[feature1], new_df[feature2], c='white',\n",
    "                     s=20, edgecolor='k')\n",
    "\n",
    "            subplot.axis('tight')\n",
    "\n",
    "            subplot.set_xlabel(\"%s\" % (feature1))\n",
    " \n",
    "            plt.ylabel(feature2)#, fontsize=18)\n",
    "            plt.title(\"%d. %s (errors: %d)\" % (i + 1, clf_name, n_errors))\n",
    "\n",
    "        plt.subplots_adjust(0.04, 0.1, 0.96, 0.94, 0.1, 0.26)\n",
    "#         plt.suptitle(\"Outlier detection\")\n",
    "\n",
    "    plt.show()\n",
    "    return new_df"
   ]
  },
  {
   "cell_type": "code",
   "execution_count": 8,
   "metadata": {
    "execution": {
     "iopub.execute_input": "2023-05-08T01:47:47.008665Z",
     "iopub.status.busy": "2023-05-08T01:47:47.008393Z",
     "iopub.status.idle": "2023-05-08T01:47:47.012781Z",
     "shell.execute_reply": "2023-05-08T01:47:47.011648Z",
     "shell.execute_reply.started": "2023-05-08T01:47:47.008606Z"
    }
   },
   "outputs": [],
   "source": [
    "# Declaration of Varibles\n",
    "SEED = 7\n"
   ]
  },
  {
   "cell_type": "code",
   "execution_count": 9,
   "metadata": {
    "execution": {
     "iopub.execute_input": "2023-05-08T01:47:47.014522Z",
     "iopub.status.busy": "2023-05-08T01:47:47.014203Z",
     "iopub.status.idle": "2023-05-08T01:47:47.576734Z",
     "shell.execute_reply": "2023-05-08T01:47:47.297384Z",
     "shell.execute_reply.started": "2023-05-08T01:47:47.014458Z"
    }
   },
   "outputs": [],
   "source": [
    "# IMporting the dataset into memory\n",
    "\n",
    "np.random.seed(SEED)\n",
    "train_df = pd.read_csv(\"cs-training.csv\")\n"
   ]
  },
  {
   "cell_type": "code",
   "execution_count": 10,
   "metadata": {
    "execution": {
     "iopub.status.busy": "2023-05-08T01:47:47.298930Z",
     "iopub.status.idle": "2023-05-08T01:47:47.300244Z"
    }
   },
   "outputs": [],
   "source": [
    "#train_df = train_df.sample(frac=0.1)"
   ]
  },
  {
   "cell_type": "code",
   "execution_count": 11,
   "metadata": {
    "execution": {
     "iopub.status.busy": "2023-05-08T01:47:47.301553Z",
     "iopub.status.idle": "2023-05-08T01:47:47.302359Z"
    }
   },
   "outputs": [],
   "source": [
    "#Drop the serial number column\n",
    "train_df.drop(train_df[['Unnamed: 0']],axis=1,inplace=True)\n",
    "#test_df.drop(test_df[['Unnamed: 0']],axis=1,inplace=True)"
   ]
  },
  {
   "cell_type": "code",
   "execution_count": 12,
   "metadata": {
    "execution": {
     "iopub.status.busy": "2023-05-08T01:47:47.303664Z",
     "iopub.status.idle": "2023-05-08T01:47:47.304564Z"
    }
   },
   "outputs": [],
   "source": [
    "target = train_df['SeriousDlqin2yrs']"
   ]
  },
  {
   "cell_type": "code",
   "execution_count": 13,
   "metadata": {
    "execution": {
     "iopub.status.busy": "2023-05-08T01:47:47.305695Z",
     "iopub.status.idle": "2023-05-08T01:47:47.306565Z"
    }
   },
   "outputs": [],
   "source": [
    "#train_df.drop(train_df[['SeriousDlqin2yrs']],axis=1,inplace=True)"
   ]
  },
  {
   "cell_type": "code",
   "execution_count": 14,
   "metadata": {
    "execution": {
     "iopub.status.busy": "2023-05-08T01:47:47.307387Z",
     "iopub.status.idle": "2023-05-08T01:47:47.307979Z"
    }
   },
   "outputs": [
    {
     "ename": "NameError",
     "evalue": "name 'test_df' is not defined",
     "output_type": "error",
     "traceback": [
      "\u001b[0;31m---------------------------------------------------------------------------\u001b[0m",
      "\u001b[0;31mNameError\u001b[0m                                 Traceback (most recent call last)",
      "\u001b[0;32m<ipython-input-14-e3ce439e8a32>\u001b[0m in \u001b[0;36m<module>\u001b[0;34m\u001b[0m\n\u001b[0;32m----> 1\u001b[0;31m \u001b[0mtest_df\u001b[0m\u001b[0;34m.\u001b[0m\u001b[0mhead\u001b[0m\u001b[0;34m(\u001b[0m\u001b[0;36m20\u001b[0m\u001b[0;34m)\u001b[0m\u001b[0;34m\u001b[0m\u001b[0;34m\u001b[0m\u001b[0m\n\u001b[0m",
      "\u001b[0;31mNameError\u001b[0m: name 'test_df' is not defined"
     ]
    }
   ],
   "source": [
    "test_df.head(20)"
   ]
  },
  {
   "cell_type": "code",
   "execution_count": null,
   "metadata": {
    "execution": {
     "iopub.status.busy": "2023-05-08T01:47:47.308717Z",
     "iopub.status.idle": "2023-05-08T01:47:47.309411Z"
    }
   },
   "outputs": [],
   "source": [
    "#Identify NA values\n",
    "\n",
    "train_df.isna().sum()\n"
   ]
  },
  {
   "cell_type": "code",
   "execution_count": null,
   "metadata": {
    "execution": {
     "iopub.status.busy": "2023-05-08T01:47:47.310233Z",
     "iopub.status.idle": "2023-05-08T01:47:47.310890Z"
    }
   },
   "outputs": [],
   "source": [
    "#train_df[(train_df['MonthlyIncome'].isna()) & (train_df['SeriousDlqin2yrs']!=0)]\n",
    "train_df[(train_df['MonthlyIncome'].isna())].SeriousDlqin2yrs.value_counts().plot.bar()\n",
    "\n"
   ]
  },
  {
   "cell_type": "code",
   "execution_count": null,
   "metadata": {
    "execution": {
     "iopub.status.busy": "2023-05-08T01:47:47.312232Z",
     "iopub.status.idle": "2023-05-08T01:47:47.312881Z"
    }
   },
   "outputs": [],
   "source": [
    "train_df[(train_df['MonthlyIncome']==0)].SeriousDlqin2yrs.value_counts().plot.bar()"
   ]
  },
  {
   "cell_type": "code",
   "execution_count": null,
   "metadata": {
    "execution": {
     "iopub.status.busy": "2023-05-08T01:47:47.313603Z",
     "iopub.status.idle": "2023-05-08T01:47:47.314189Z"
    }
   },
   "outputs": [],
   "source": [
    "train_df[(train_df['MonthlyIncome']==0) | (train_df['MonthlyIncome'].isna()) ].SeriousDlqin2yrs.value_counts().plot.bar()"
   ]
  },
  {
   "cell_type": "code",
   "execution_count": null,
   "metadata": {
    "execution": {
     "iopub.status.busy": "2023-05-08T01:47:47.314952Z",
     "iopub.status.idle": "2023-05-08T01:47:47.315629Z"
    }
   },
   "outputs": [],
   "source": [
    "plt.figure(figsize=(10,5))\n",
    "plt.hist(x = train_df.MonthlyIncome,range=(0,500),bins=50)"
   ]
  },
  {
   "cell_type": "code",
   "execution_count": null,
   "metadata": {
    "execution": {
     "iopub.status.busy": "2023-05-08T01:47:47.316337Z",
     "iopub.status.idle": "2023-05-08T01:47:47.317144Z"
    },
    "scrolled": true
   },
   "outputs": [],
   "source": [
    "plt.figure(figsize=(20,10))\n",
    "train_df.MonthlyIncome.plot.kde()"
   ]
  },
  {
   "cell_type": "code",
   "execution_count": null,
   "metadata": {
    "execution": {
     "iopub.status.busy": "2023-05-08T01:47:47.318030Z",
     "iopub.status.idle": "2023-05-08T01:47:47.318700Z"
    }
   },
   "outputs": [],
   "source": [
    "train_df.isna().sum()"
   ]
  },
  {
   "cell_type": "code",
   "execution_count": null,
   "metadata": {
    "execution": {
     "iopub.status.busy": "2023-05-08T01:47:47.319730Z",
     "iopub.status.idle": "2023-05-08T01:47:47.320687Z"
    }
   },
   "outputs": [],
   "source": [
    "train_df.drop(train_df[train_df['MonthlyIncome'].isna()==True].index,inplace=True)"
   ]
  },
  {
   "cell_type": "code",
   "execution_count": null,
   "metadata": {
    "execution": {
     "iopub.status.busy": "2023-05-08T01:47:47.321962Z",
     "iopub.status.idle": "2023-05-08T01:47:47.323061Z"
    }
   },
   "outputs": [],
   "source": [
    "train_df.drop(train_df[train_df['MonthlyIncome']==0].index,inplace=True)"
   ]
  },
  {
   "cell_type": "code",
   "execution_count": null,
   "metadata": {
    "execution": {
     "iopub.status.busy": "2023-05-08T01:47:47.323911Z",
     "iopub.status.idle": "2023-05-08T01:47:47.325018Z"
    }
   },
   "outputs": [],
   "source": [
    "train_df.isna().sum()"
   ]
  },
  {
   "cell_type": "code",
   "execution_count": null,
   "metadata": {
    "execution": {
     "iopub.status.busy": "2023-05-08T01:47:47.326102Z",
     "iopub.status.idle": "2023-05-08T01:47:47.326830Z"
    }
   },
   "outputs": [],
   "source": [
    "train_df.head()"
   ]
  },
  {
   "cell_type": "code",
   "execution_count": null,
   "metadata": {
    "execution": {
     "iopub.status.busy": "2023-05-08T01:47:47.328333Z",
     "iopub.status.idle": "2023-05-08T01:47:47.329286Z"
    }
   },
   "outputs": [],
   "source": [
    "train_df.dtypes"
   ]
  },
  {
   "cell_type": "code",
   "execution_count": null,
   "metadata": {
    "execution": {
     "iopub.status.busy": "2023-05-08T01:47:47.330100Z",
     "iopub.status.idle": "2023-05-08T01:47:47.331041Z"
    }
   },
   "outputs": [],
   "source": [
    "train_df.NumberOfDependents = train_df.NumberOfDependents.astype('int64')"
   ]
  },
  {
   "cell_type": "code",
   "execution_count": null,
   "metadata": {
    "execution": {
     "iopub.status.busy": "2023-05-08T01:47:47.332262Z",
     "iopub.status.idle": "2023-05-08T01:47:47.333137Z"
    },
    "scrolled": true
   },
   "outputs": [],
   "source": [
    "#sns.pairplot(train_df,hue=\"SeriousDlqin2yrs\", palette=\"husl\")"
   ]
  },
  {
   "cell_type": "code",
   "execution_count": null,
   "metadata": {
    "execution": {
     "iopub.status.busy": "2023-05-08T01:47:47.334308Z",
     "iopub.status.idle": "2023-05-08T01:47:47.335073Z"
    }
   },
   "outputs": [],
   "source": [
    "sns.heatmap(train_df.corr(),cmap = \"Greens\")\n",
    "\n",
    "\n",
    "#sns.heatmap(df, cmap=\"YlGnBu\")\n",
    "#sns.heatmap(df, cmap=\"Blues\")\n",
    "#sns.heatmap(df, cmap=\"BuPu\")\n",
    "#sns.heatmap(df, cmap=\"Greens\")\n"
   ]
  },
  {
   "cell_type": "code",
   "execution_count": null,
   "metadata": {
    "execution": {
     "iopub.status.busy": "2023-05-08T01:47:47.335912Z",
     "iopub.status.idle": "2023-05-08T01:47:47.336488Z"
    }
   },
   "outputs": [],
   "source": [
    "OutLiersBox(train_df,\"NumberOfOpenCreditLinesAndLoans\")"
   ]
  },
  {
   "cell_type": "code",
   "execution_count": null,
   "metadata": {
    "execution": {
     "iopub.status.busy": "2023-05-08T01:47:47.337218Z",
     "iopub.status.idle": "2023-05-08T01:47:47.337853Z"
    }
   },
   "outputs": [],
   "source": [
    "# this implies that the people who defaulted later than 30 days, most of them ran their accounts into bad debt as \n",
    "#they were termed as bad loans after 90+ days of default\n",
    "\n",
    "# EDA\n",
    "# 1. Revolving Utillization of unsecured lines\n",
    "#plt.hist(x = train_df.RevolvingUtilizationOfUnsecuredLines,bins=10,range=(0,1))\n",
    "#train_df[train_df.RevolvingUtilizationOfUnsecuredLines>0.4 & train_df.SeriousDlqin2yrs=1]\n",
    "hist_perc(train_df.RevolvingUtilizationOfUnsecuredLines,10,0,1.5)\n",
    "\n"
   ]
  },
  {
   "cell_type": "code",
   "execution_count": null,
   "metadata": {
    "execution": {
     "iopub.status.busy": "2023-05-08T01:47:47.338642Z",
     "iopub.status.idle": "2023-05-08T01:47:47.339207Z"
    }
   },
   "outputs": [],
   "source": [
    "# Anamolies analysis in the data\n",
    "train_df.describe()"
   ]
  },
  {
   "cell_type": "code",
   "execution_count": null,
   "metadata": {
    "execution": {
     "iopub.status.busy": "2023-05-08T01:47:47.339925Z",
     "iopub.status.idle": "2023-05-08T01:47:47.340461Z"
    }
   },
   "outputs": [],
   "source": [
    "# The consolidated description confirms the presence of outliers in the data.\n",
    "# Investigating further to detect outliers and visuallize them wrt different predictors."
   ]
  },
  {
   "cell_type": "code",
   "execution_count": null,
   "metadata": {
    "execution": {
     "iopub.status.busy": "2023-05-08T01:47:47.341197Z",
     "iopub.status.idle": "2023-05-08T01:47:47.341798Z"
    }
   },
   "outputs": [],
   "source": [
    "#OutLierDetection(train_df,'RevolvingUtilizationOfUnsecuredLines','MonthlyIncome',outliers_fraction=.1)"
   ]
  },
  {
   "cell_type": "code",
   "execution_count": null,
   "metadata": {
    "execution": {
     "iopub.status.busy": "2023-05-08T01:47:47.342478Z",
     "iopub.status.idle": "2023-05-08T01:47:47.343178Z"
    }
   },
   "outputs": [],
   "source": [
    "plotHist(train_df,'MonthlyIncome')"
   ]
  },
  {
   "cell_type": "code",
   "execution_count": null,
   "metadata": {
    "execution": {
     "iopub.status.busy": "2023-05-08T01:47:47.344113Z",
     "iopub.status.idle": "2023-05-08T01:47:47.344691Z"
    }
   },
   "outputs": [],
   "source": [
    "train_df.head()"
   ]
  },
  {
   "cell_type": "code",
   "execution_count": null,
   "metadata": {
    "execution": {
     "iopub.status.busy": "2023-05-08T01:47:47.345666Z",
     "iopub.status.idle": "2023-05-08T01:47:47.346605Z"
    }
   },
   "outputs": [],
   "source": [
    "from sklearn.model_selection import train_test_split\n",
    "X_train,Y_train,X_test,Y_test = train_test_split()"
   ]
  },
  {
   "cell_type": "code",
   "execution_count": null,
   "metadata": {
    "execution": {
     "iopub.status.busy": "2023-05-08T01:47:47.347605Z",
     "iopub.status.idle": "2023-05-08T01:47:47.348546Z"
    }
   },
   "outputs": [],
   "source": [
    "# Model Definition data cleaning"
   ]
  },
  {
   "cell_type": "code",
   "execution_count": null,
   "metadata": {
    "execution": {
     "iopub.status.busy": "2023-05-08T01:47:47.349503Z",
     "iopub.status.idle": "2023-05-08T01:47:47.350316Z"
    }
   },
   "outputs": [],
   "source": [
    "X_train = train_df.iloc[:,1:]\n",
    "Y_train = train_df.iloc[:,0:1]\n",
    "\n",
    "print(X_train.shape,Y_train.shape)\n",
    "ScoreCard = pd.DataFrame()"
   ]
  },
  {
   "cell_type": "code",
   "execution_count": null,
   "metadata": {
    "execution": {
     "iopub.status.busy": "2023-05-08T01:47:47.351288Z",
     "iopub.status.idle": "2023-05-08T01:47:47.352084Z"
    }
   },
   "outputs": [],
   "source": [
    "ScoreCard.shape"
   ]
  },
  {
   "cell_type": "code",
   "execution_count": null,
   "metadata": {
    "execution": {
     "iopub.status.busy": "2023-05-08T01:47:47.353144Z",
     "iopub.status.idle": "2023-05-08T01:47:47.354175Z"
    }
   },
   "outputs": [],
   "source": [
    "from pandas import set_option\n",
    "from pandas.tools.plotting import scatter_matrix\n",
    "from sklearn.preprocessing import StandardScaler\n",
    "from sklearn.model_selection import KFold\n",
    "from sklearn.model_selection import StratifiedKFold\n",
    "from sklearn.model_selection import cross_val_score\n",
    "from sklearn.model_selection import GridSearchCV\n",
    "from sklearn.metrics import classification_report\n",
    "from sklearn.metrics import confusion_matrix\n",
    "from sklearn.metrics import accuracy_score\n",
    "from sklearn.pipeline import Pipeline\n",
    "from sklearn.linear_model import LogisticRegression\n",
    "from sklearn.tree import DecisionTreeClassifier\n",
    "from sklearn.neighbors import KNeighborsClassifier\n",
    "from sklearn.discriminant_analysis import LinearDiscriminantAnalysis\n",
    "from sklearn.naive_bayes import GaussianNB\n",
    "from sklearn.svm import SVC\n",
    "from sklearn.ensemble import AdaBoostClassifier\n",
    "from sklearn.ensemble import GradientBoostingClassifier\n",
    "from sklearn.ensemble import RandomForestClassifier\n",
    "from sklearn.ensemble import ExtraTreesClassifier"
   ]
  },
  {
   "cell_type": "code",
   "execution_count": null,
   "metadata": {},
   "outputs": [],
   "source": []
  },
  {
   "cell_type": "code",
   "execution_count": null,
   "metadata": {
    "execution": {
     "iopub.status.busy": "2023-05-08T01:47:47.355238Z",
     "iopub.status.idle": "2023-05-08T01:47:47.356022Z"
    }
   },
   "outputs": [],
   "source": [
    "def GetBasedModel():\n",
    "    basedModels = []\n",
    "    basedModels.append(('LR'   , LogisticRegression()))\n",
    "    basedModels.append(('LDA'  , LinearDiscriminantAnalysis()))\n",
    "    basedModels.append(('KNN'  , KNeighborsClassifier()))\n",
    "    basedModels.append(('CART' , DecisionTreeClassifier()))\n",
    "    basedModels.append(('NB'   , GaussianNB()))\n",
    "    basedModels.append(('SVM'  , SVC(probability=True)))\n",
    "    basedModels.append(('AB'   , AdaBoostClassifier()))\n",
    "    basedModels.append(('GBM'  , GradientBoostingClassifier()))\n",
    "    basedModels.append(('RF'   , RandomForestClassifier()))\n",
    "    basedModels.append(('ET'   , ExtraTreesClassifier()))\n",
    "\n",
    "    \n",
    "    return basedModels"
   ]
  },
  {
   "cell_type": "code",
   "execution_count": null,
   "metadata": {
    "execution": {
     "iopub.status.busy": "2023-05-08T01:47:47.356975Z",
     "iopub.status.idle": "2023-05-08T01:47:47.358121Z"
    }
   },
   "outputs": [],
   "source": [
    "def BasedLine2(X_train, Y_train,models,scoring_type):\n",
    "    # Test options and evaluation metric\n",
    "    num_folds = 10\n",
    "    scoring = scoring_type\n",
    "\n",
    "    results = []\n",
    "    names = []\n",
    "    for name, model in models:\n",
    "        kfold = StratifiedKFold(n_splits=num_folds, random_state=SEED)\n",
    "        cv_results = cross_val_score(model, X_train, Y_train, cv=kfold, scoring=scoring)\n",
    "        results.append(cv_results)\n",
    "        names.append(name)\n",
    "        msg = \"%s: %f (%f)\" % (name, cv_results.mean(), cv_results.std())\n",
    "        print(msg)\n",
    "        \n",
    "    return names, results"
   ]
  },
  {
   "cell_type": "code",
   "execution_count": null,
   "metadata": {
    "execution": {
     "iopub.status.busy": "2023-05-08T01:47:47.359164Z",
     "iopub.status.idle": "2023-05-08T01:47:47.360372Z"
    }
   },
   "outputs": [],
   "source": [
    "class PlotBoxR(object):\n",
    "    \n",
    "    \n",
    "    def __Trace(self,nameOfFeature,value): \n",
    "    \n",
    "        trace = go.Box(\n",
    "            y=value,\n",
    "            name = nameOfFeature,\n",
    "            marker = dict(\n",
    "                color = 'rgb(0, 128, 128)',\n",
    "            )\n",
    "        )\n",
    "        return trace\n",
    "\n",
    "    def PlotResult(self,names,results):\n",
    "        \n",
    "        data = []\n",
    "\n",
    "        for i in range(len(names)):\n",
    "            data.append(self.__Trace(names[i],results[i]))\n",
    "\n",
    "\n",
    "        py.iplot(data)"
   ]
  },
  {
   "cell_type": "code",
   "execution_count": null,
   "metadata": {
    "execution": {
     "iopub.status.busy": "2023-05-08T01:47:47.361686Z",
     "iopub.status.idle": "2023-05-08T01:47:47.362801Z"
    }
   },
   "outputs": [],
   "source": [
    "models = GetBasedModel()\n",
    "names,results = BasedLine2(X_train, Y_train,models,'f1_weighted')\n",
    "PlotBoxR().PlotResult(names,results)"
   ]
  },
  {
   "cell_type": "code",
   "execution_count": null,
   "metadata": {
    "execution": {
     "iopub.status.busy": "2023-05-08T01:47:47.363905Z",
     "iopub.status.idle": "2023-05-08T01:47:47.364789Z"
    }
   },
   "outputs": [],
   "source": [
    "def ScoreDataFrame(names,results,score_name):\n",
    "    def floatingDecimals(f_val, dec=3):\n",
    "        prc = \"{:.\"+str(dec)+\"f}\" \n",
    "    \n",
    "        return float(prc.format(f_val))\n",
    "\n",
    "    scores = []\n",
    "    for r in results:\n",
    "        scores.append(floatingDecimals(r.mean(),4))\n",
    "\n",
    "    scoreDataFrame = pd.DataFrame({'Model':names, score_name: scores})\n",
    "    return scoreDataFrame"
   ]
  },
  {
   "cell_type": "code",
   "execution_count": null,
   "metadata": {
    "execution": {
     "iopub.status.busy": "2023-05-08T01:47:47.365530Z",
     "iopub.status.idle": "2023-05-08T01:47:47.366286Z"
    }
   },
   "outputs": [],
   "source": [
    "basedLineF1Score = ScoreDataFrame(names,results,'baseline_f1_Score')\n",
    "basedLineF1Score"
   ]
  },
  {
   "cell_type": "code",
   "execution_count": null,
   "metadata": {
    "execution": {
     "iopub.status.busy": "2023-05-08T01:47:47.367133Z",
     "iopub.status.idle": "2023-05-08T01:47:47.367520Z"
    }
   },
   "outputs": [],
   "source": [
    "models = GetBasedModel()\n",
    "names,results = BasedLine2(X_train, Y_train,models,'accuracy')\n",
    "PlotBoxR().PlotResult(names,results)\n",
    "\n",
    "basedLineAccuracyScore = ScoreDataFrame(names,results,'baseline_accuracy')\n",
    "basedLineAccuracyScore"
   ]
  },
  {
   "cell_type": "code",
   "execution_count": null,
   "metadata": {
    "execution": {
     "iopub.status.busy": "2023-05-08T01:47:47.368183Z",
     "iopub.status.idle": "2023-05-08T01:47:47.368665Z"
    }
   },
   "outputs": [],
   "source": [
    "ScoreCard = pd.concat([basedLineAccuracyScore,\n",
    "                       basedLineF1Score], axis=1)\n",
    "ScoreCard"
   ]
  },
  {
   "cell_type": "code",
   "execution_count": null,
   "metadata": {
    "execution": {
     "iopub.status.busy": "2023-05-08T01:47:47.369718Z",
     "iopub.status.idle": "2023-05-08T01:47:47.370385Z"
    }
   },
   "outputs": [],
   "source": [
    "from sklearn.preprocessing import StandardScaler\n",
    "from sklearn.preprocessing import MinMaxScaler\n",
    "\n",
    "\n",
    "def GetScaledModel(nameOfScaler):\n",
    "    \n",
    "    if nameOfScaler == 'standard':\n",
    "        scaler = StandardScaler()\n",
    "    elif nameOfScaler =='minmax':\n",
    "        scaler = MinMaxScaler()\n",
    "\n",
    "    pipelines = []\n",
    "    pipelines.append((nameOfScaler+'LR'  , Pipeline([('Scaler', scaler),('LR'  , LogisticRegression())])))\n",
    "    pipelines.append((nameOfScaler+'LDA' , Pipeline([('Scaler', scaler),('LDA' , LinearDiscriminantAnalysis())])))\n",
    "    pipelines.append((nameOfScaler+'KNN' , Pipeline([('Scaler', scaler),('KNN' , KNeighborsClassifier())])))\n",
    "    pipelines.append((nameOfScaler+'CART', Pipeline([('Scaler', scaler),('CART', DecisionTreeClassifier())])))\n",
    "    pipelines.append((nameOfScaler+'NB'  , Pipeline([('Scaler', scaler),('NB'  , GaussianNB())])))\n",
    "    pipelines.append((nameOfScaler+'SVM' , Pipeline([('Scaler', scaler),('SVM' , SVC())])))\n",
    "    pipelines.append((nameOfScaler+'AB'  , Pipeline([('Scaler', scaler),('AB'  , AdaBoostClassifier())])  ))\n",
    "    pipelines.append((nameOfScaler+'GBM' , Pipeline([('Scaler', scaler),('GMB' , GradientBoostingClassifier())])  ))\n",
    "    pipelines.append((nameOfScaler+'RF'  , Pipeline([('Scaler', scaler),('RF'  , RandomForestClassifier())])  ))\n",
    "    pipelines.append((nameOfScaler+'ET'  , Pipeline([('Scaler', scaler),('ET'  , ExtraTreesClassifier())])  ))\n",
    "    \n",
    "\n",
    "    return pipelines "
   ]
  },
  {
   "cell_type": "code",
   "execution_count": null,
   "metadata": {
    "execution": {
     "iopub.status.busy": "2023-05-08T01:47:47.371660Z",
     "iopub.status.idle": "2023-05-08T01:47:47.372248Z"
    }
   },
   "outputs": [],
   "source": [
    "models = GetScaledModel('standard')\n",
    "names,results = BasedLine2(X_train, Y_train,models,'f1_weighted')\n",
    "PlotBoxR().PlotResult(names,results)\n",
    "scaledScoreStandard = ScoreDataFrame(names,results,'standard_f1_score')\n"
   ]
  },
  {
   "cell_type": "code",
   "execution_count": null,
   "metadata": {
    "execution": {
     "iopub.status.busy": "2023-05-08T01:47:47.372948Z",
     "iopub.status.idle": "2023-05-08T01:47:47.373307Z"
    }
   },
   "outputs": [],
   "source": [
    "ScoreCard = pd.concat([ScoreCard,\n",
    "                           scaledScoreStandard], axis=1)\n",
    "ScoreCard"
   ]
  },
  {
   "cell_type": "code",
   "execution_count": null,
   "metadata": {
    "execution": {
     "iopub.status.busy": "2023-05-08T01:47:47.374014Z",
     "iopub.status.idle": "2023-05-08T01:47:47.374535Z"
    }
   },
   "outputs": [],
   "source": [
    "models = GetScaledModel('minmax')\n",
    "names,results = BasedLine2(X_train, Y_train,models,'f1_weighted')\n",
    "PlotBoxR().PlotResult(names,results)\n",
    "\n",
    "scaledScoreMinMax = ScoreDataFrame(names,results,'minmax_f1_score')\n"
   ]
  },
  {
   "cell_type": "code",
   "execution_count": null,
   "metadata": {
    "execution": {
     "iopub.status.busy": "2023-05-08T01:47:47.375267Z",
     "iopub.status.idle": "2023-05-08T01:47:47.375872Z"
    }
   },
   "outputs": [],
   "source": [
    "ScoreCard = pd.concat([ScoreCard,\n",
    "                          scaledScoreMinMax], axis=1)\n",
    "ScoreCard"
   ]
  },
  {
   "cell_type": "code",
   "execution_count": null,
   "metadata": {
    "execution": {
     "iopub.status.busy": "2023-05-08T01:47:47.376539Z",
     "iopub.status.idle": "2023-05-08T01:47:47.377075Z"
    }
   },
   "outputs": [],
   "source": [
    "from sklearn.preprocessing import StandardScaler\n",
    "from sklearn.preprocessing import MinMaxScaler\n",
    "\n",
    "\n",
    "def GetScaledModel(nameOfScaler):\n",
    "    \n",
    "    if nameOfScaler == 'standard':\n",
    "        scaler = StandardScaler()\n",
    "    elif nameOfScaler =='minmax':\n",
    "        scaler = MinMaxScaler()\n",
    "\n",
    "    pipelines = []\n",
    "    pipelines.append((nameOfScaler+'LR'+'CW'  , Pipeline([('Scaler', scaler),('LR'  , LogisticRegression(class_weight='balanced'))])))\n",
    "    pipelines.append((nameOfScaler+'LDA' , Pipeline([('Scaler', scaler),('LDA' , LinearDiscriminantAnalysis())])))\n",
    "    pipelines.append((nameOfScaler+'KNN' , Pipeline([('Scaler', scaler),('KNN' , KNeighborsClassifier())])))\n",
    "    pipelines.append((nameOfScaler+'CART'+'CW', Pipeline([('Scaler', scaler),('CART', DecisionTreeClassifier(class_weight='balanced'))])))\n",
    "    pipelines.append((nameOfScaler+'NB'  , Pipeline([('Scaler', scaler),('NB'  , GaussianNB())])))\n",
    "    pipelines.append((nameOfScaler+'SVM'+'CW' , Pipeline([('Scaler', scaler),('SVM' , SVC(class_weight='balanced'))])))\n",
    "    pipelines.append((nameOfScaler+'AB'  , Pipeline([('Scaler', scaler),('AB'  , AdaBoostClassifier())])  ))\n",
    "    pipelines.append((nameOfScaler+'GBM' , Pipeline([('Scaler', scaler),('GMB' , GradientBoostingClassifier())])  ))\n",
    "    pipelines.append((nameOfScaler+'RF'+'CW'  , Pipeline([('Scaler', scaler),('RF'  , RandomForestClassifier(class_weight='balanced'))])  ))\n",
    "    pipelines.append((nameOfScaler+'ET'+'CW'  , Pipeline([('Scaler', scaler),('ET'  , ExtraTreesClassifier(class_weight='balanced'))])  ))\n",
    "    \n",
    "\n",
    "    return pipelines "
   ]
  },
  {
   "cell_type": "code",
   "execution_count": null,
   "metadata": {
    "execution": {
     "iopub.status.busy": "2023-05-08T01:47:47.377968Z",
     "iopub.status.idle": "2023-05-08T01:47:47.378397Z"
    }
   },
   "outputs": [],
   "source": [
    "models = GetScaledModel('standard')\n",
    "names,results = BasedLine2(X_train, Y_train,models,'f1_weighted')\n",
    "PlotBoxR().PlotResult(names,results)\n",
    "scaledScoreStandardCW = ScoreDataFrame(names,results,'standard_f1_score')\n"
   ]
  },
  {
   "cell_type": "code",
   "execution_count": null,
   "metadata": {
    "execution": {
     "iopub.status.busy": "2023-05-08T01:47:47.379275Z",
     "iopub.status.idle": "2023-05-08T01:47:47.379753Z"
    }
   },
   "outputs": [],
   "source": [
    "ScoreCard = pd.concat([ScoreCard,\n",
    "                           scaledScoreStandardCW], axis=1)\n",
    "ScoreCard"
   ]
  },
  {
   "cell_type": "code",
   "execution_count": null,
   "metadata": {
    "execution": {
     "iopub.status.busy": "2023-05-08T01:47:47.380554Z",
     "iopub.status.idle": "2023-05-08T01:47:47.380971Z"
    }
   },
   "outputs": [],
   "source": [
    "models = GetScaledModel('minmax')\n",
    "names,results = BasedLine2(X_train, Y_train,models,'f1_weighted')\n",
    "PlotBoxR().PlotResult(names,results)\n",
    "\n",
    "scaledScoreMinMaxCW = ScoreDataFrame(names,results,'minmax_f1_score')\n"
   ]
  },
  {
   "cell_type": "code",
   "execution_count": null,
   "metadata": {
    "execution": {
     "iopub.status.busy": "2023-05-08T01:47:47.381781Z",
     "iopub.status.idle": "2023-05-08T01:47:47.382273Z"
    }
   },
   "outputs": [],
   "source": [
    "ScoreCard = pd.concat([ScoreCard,\n",
    "                          scaledScoreMinMaxCW], axis=1)\n",
    "ScoreCard"
   ]
  },
  {
   "cell_type": "markdown",
   "metadata": {},
   "source": [
    "###### Detect and Remove Outliers"
   ]
  },
  {
   "cell_type": "code",
   "execution_count": null,
   "metadata": {
    "execution": {
     "iopub.status.busy": "2023-05-08T01:47:47.383109Z",
     "iopub.status.idle": "2023-05-08T01:47:47.383535Z"
    }
   },
   "outputs": [],
   "source": [
    "train_df = train_df.reset_index(drop=True)\n",
    "df_t = train_df.copy()\n",
    "df_t_name = df_t.columns\n",
    "df_name = train_df.columns"
   ]
  },
  {
   "cell_type": "code",
   "execution_count": null,
   "metadata": {
    "execution": {
     "iopub.status.busy": "2023-05-08T01:47:47.384191Z",
     "iopub.status.idle": "2023-05-08T01:47:47.384658Z"
    }
   },
   "outputs": [],
   "source": [
    "def TurkyOutliers(df_out,nameOfFeature,drop=False):\n",
    "\n",
    "    #feature_number = 1\n",
    "    #df_out = df_t\n",
    "    #nameOfFeature = df_name[feature_number]\n",
    "    #drop = True\n",
    "    \n",
    "    valueOfFeature = df_out[nameOfFeature]\n",
    "    # Calculate Q1 (25th percentile of the data) for the given feature\n",
    "    Q1 = np.percentile(valueOfFeature, 25.)\n",
    "\n",
    "    # Calculate Q3 (75th percentile of the data) for the given feature\n",
    "    Q3 = np.percentile(valueOfFeature, 75.)\n",
    "\n",
    "    # Use the interquartile range to calculate an outlier step (1.5 times the interquartile range)\n",
    "    step = (Q3-Q1)*1.5\n",
    "    # print \"Outlier step:\", step\n",
    "    outliers = valueOfFeature[~((valueOfFeature >= Q1 - step) & (valueOfFeature <= Q3 + step))].index.tolist()\n",
    "    feature_outliers = valueOfFeature[~((valueOfFeature >= Q1 - step) & (valueOfFeature <= Q3 + step))].values\n",
    "    # df[~((df[nameOfFeature] >= Q1 - step) & (df[nameOfFeature] <= Q3 + step))]\n",
    "\n",
    "\n",
    "    # Remove the outliers, if any were specified\n",
    "    print (\"Number of outliers (inc duplicates): {} and outliers: {}\".format(len(outliers), feature_outliers))\n",
    "    if drop:\n",
    "        good_data = df_out.drop(df_out.index[outliers]).reset_index(drop = True)\n",
    "        print (\"New dataset with removed outliers has {} samples with {} features each.\".format(*good_data.shape))\n",
    "        return good_data\n",
    "    else: \n",
    "        print (\"Nothing happens, df.shape = \",df_out.shape)\n",
    "        return df_out"
   ]
  },
  {
   "cell_type": "code",
   "execution_count": null,
   "metadata": {
    "execution": {
     "iopub.status.busy": "2023-05-08T01:47:47.385468Z",
     "iopub.status.idle": "2023-05-08T01:47:47.385998Z"
    }
   },
   "outputs": [],
   "source": [
    "feature_number  = 1\n",
    "print(df_name[feature_number])\n",
    "OutLiersBox(df_t,df_name[feature_number])"
   ]
  },
  {
   "cell_type": "code",
   "execution_count": null,
   "metadata": {
    "execution": {
     "iopub.status.busy": "2023-05-08T01:47:47.386921Z",
     "iopub.status.idle": "2023-05-08T01:47:47.387285Z"
    }
   },
   "outputs": [],
   "source": [
    "df_clean = TurkyOutliers(df_t,df_name[feature_number],True)\n",
    "OutLiersBox(df_clean,df_name[feature_number])"
   ]
  },
  {
   "cell_type": "code",
   "execution_count": null,
   "metadata": {
    "execution": {
     "iopub.status.busy": "2023-05-08T01:47:47.387853Z",
     "iopub.status.idle": "2023-05-08T01:47:47.388383Z"
    }
   },
   "outputs": [],
   "source": [
    "feature_number  = 2\n",
    "print(df_name[feature_number])\n",
    "OutLiersBox(df_t,df_name[feature_number])"
   ]
  },
  {
   "cell_type": "code",
   "execution_count": null,
   "metadata": {
    "execution": {
     "iopub.status.busy": "2023-05-08T01:47:47.389032Z",
     "iopub.status.idle": "2023-05-08T01:47:47.389442Z"
    }
   },
   "outputs": [],
   "source": [
    "df_clean = TurkyOutliers(df_clean,df_name[feature_number],False)\n",
    "OutLiersBox(df_clean,df_name[feature_number])"
   ]
  },
  {
   "cell_type": "code",
   "execution_count": null,
   "metadata": {
    "execution": {
     "iopub.status.busy": "2023-05-08T01:47:47.390084Z",
     "iopub.status.idle": "2023-05-08T01:47:47.390818Z"
    }
   },
   "outputs": [],
   "source": [
    "feature_number  = 3\n",
    "print(df_name[feature_number])\n",
    "OutLiersBox(df_t,df_name[feature_number])"
   ]
  },
  {
   "cell_type": "code",
   "execution_count": null,
   "metadata": {
    "execution": {
     "iopub.status.busy": "2023-05-08T01:47:47.391534Z",
     "iopub.status.idle": "2023-05-08T01:47:47.392063Z"
    }
   },
   "outputs": [],
   "source": [
    "df_clean = TurkyOutliers(df_clean,df_name[feature_number],False)\n",
    "OutLiersBox(df_clean,df_name[feature_number])"
   ]
  },
  {
   "cell_type": "code",
   "execution_count": null,
   "metadata": {
    "execution": {
     "iopub.status.busy": "2023-05-08T01:47:47.392786Z",
     "iopub.status.idle": "2023-05-08T01:47:47.393231Z"
    }
   },
   "outputs": [],
   "source": [
    "train_df.describe()"
   ]
  },
  {
   "cell_type": "code",
   "execution_count": null,
   "metadata": {
    "execution": {
     "iopub.status.busy": "2023-05-08T01:47:47.393843Z",
     "iopub.status.idle": "2023-05-08T01:47:47.394207Z"
    }
   },
   "outputs": [],
   "source": [
    "df_clean.drop(df_clean[(df_clean['NumberOfTime30-59DaysPastDueNotWorse']>50) &(df_clean.SeriousDlqin2yrs==0)].index,inplace=True)\n",
    "df_clean.shape\n",
    "#df_clean.drop(df_clean[df_clean['NumberOfTime30-59DaysPastDueNotWorse']>50],axis=1,inplace=True)"
   ]
  },
  {
   "cell_type": "code",
   "execution_count": null,
   "metadata": {
    "execution": {
     "iopub.status.busy": "2023-05-08T01:47:47.394905Z",
     "iopub.status.idle": "2023-05-08T01:47:47.395511Z"
    }
   },
   "outputs": [],
   "source": [
    "feature_number  = 4\n",
    "print(df_name[feature_number])\n",
    "OutLiersBox(df_t,df_name[feature_number])"
   ]
  },
  {
   "cell_type": "code",
   "execution_count": null,
   "metadata": {
    "execution": {
     "iopub.status.busy": "2023-05-08T01:47:47.396293Z",
     "iopub.status.idle": "2023-05-08T01:47:47.396767Z"
    }
   },
   "outputs": [],
   "source": [
    "df_clean = TurkyOutliers(df_clean,df_name[feature_number],False)\n",
    "OutLiersBox(df_clean,df_name[feature_number])"
   ]
  },
  {
   "cell_type": "code",
   "execution_count": null,
   "metadata": {
    "execution": {
     "iopub.status.busy": "2023-05-08T01:47:47.397365Z",
     "iopub.status.idle": "2023-05-08T01:47:47.397819Z"
    }
   },
   "outputs": [],
   "source": [
    "df_clean.describe()"
   ]
  },
  {
   "cell_type": "code",
   "execution_count": null,
   "metadata": {
    "execution": {
     "iopub.status.busy": "2023-05-08T01:47:47.398703Z",
     "iopub.status.idle": "2023-05-08T01:47:47.399154Z"
    }
   },
   "outputs": [],
   "source": [
    "hist_perc(df_clean.DebtRatio,100,5,3000)"
   ]
  },
  {
   "cell_type": "code",
   "execution_count": null,
   "metadata": {
    "execution": {
     "iopub.status.busy": "2023-05-08T01:47:47.399891Z",
     "iopub.status.idle": "2023-05-08T01:47:47.400407Z"
    }
   },
   "outputs": [],
   "source": [
    "df_clean.drop(df_clean[(df_clean.DebtRatio>5)&(df_clean.SeriousDlqin2yrs==0)].index,inplace=True)"
   ]
  },
  {
   "cell_type": "code",
   "execution_count": null,
   "metadata": {
    "execution": {
     "iopub.status.busy": "2023-05-08T01:47:47.401263Z",
     "iopub.status.idle": "2023-05-08T01:47:47.401761Z"
    }
   },
   "outputs": [],
   "source": [
    "feature_number  = 5\n",
    "print(df_name[feature_number])\n",
    "OutLiersBox(df_t,df_name[feature_number])"
   ]
  },
  {
   "cell_type": "code",
   "execution_count": null,
   "metadata": {
    "execution": {
     "iopub.status.busy": "2023-05-08T01:47:47.402412Z",
     "iopub.status.idle": "2023-05-08T01:47:47.402834Z"
    }
   },
   "outputs": [],
   "source": [
    "df_clean = TurkyOutliers(df_clean,df_name[feature_number],False)\n",
    "OutLiersBox(df_clean,df_name[feature_number])"
   ]
  },
  {
   "cell_type": "code",
   "execution_count": null,
   "metadata": {
    "execution": {
     "iopub.status.busy": "2023-05-08T01:47:47.403482Z",
     "iopub.status.idle": "2023-05-08T01:47:47.403972Z"
    }
   },
   "outputs": [],
   "source": [
    "hist_perc(df_clean.MonthlyIncome,1000,0,100000)"
   ]
  },
  {
   "cell_type": "code",
   "execution_count": null,
   "metadata": {
    "execution": {
     "iopub.status.busy": "2023-05-08T01:47:47.404549Z",
     "iopub.status.idle": "2023-05-08T01:47:47.405070Z"
    }
   },
   "outputs": [],
   "source": [
    "df_clean.describe()"
   ]
  },
  {
   "cell_type": "code",
   "execution_count": null,
   "metadata": {
    "execution": {
     "iopub.status.busy": "2023-05-08T01:47:47.405691Z",
     "iopub.status.idle": "2023-05-08T01:47:47.406229Z"
    }
   },
   "outputs": [],
   "source": [
    "df_clean.drop(df_clean[(df_clean.MonthlyIncome>30000)&(df_clean.SeriousDlqin2yrs==0)].index,inplace=True)\n",
    "#df_clean[(df_clean.MonthlyIncome>30000)&(df_clean.SeriousDlqin2yrs==0)].SeriousDlqin2yrs.value_counts()"
   ]
  },
  {
   "cell_type": "code",
   "execution_count": null,
   "metadata": {
    "execution": {
     "iopub.status.busy": "2023-05-08T01:47:47.407159Z",
     "iopub.status.idle": "2023-05-08T01:47:47.407890Z"
    }
   },
   "outputs": [],
   "source": [
    "df_clean.shape"
   ]
  },
  {
   "cell_type": "code",
   "execution_count": null,
   "metadata": {
    "execution": {
     "iopub.status.busy": "2023-05-08T01:47:47.408664Z",
     "iopub.status.idle": "2023-05-08T01:47:47.409094Z"
    }
   },
   "outputs": [],
   "source": [
    "df_clean.describe()"
   ]
  },
  {
   "cell_type": "code",
   "execution_count": null,
   "metadata": {
    "execution": {
     "iopub.status.busy": "2023-05-08T01:47:47.409928Z",
     "iopub.status.idle": "2023-05-08T01:47:47.410603Z"
    }
   },
   "outputs": [],
   "source": [
    "feature_number  = 6\n",
    "print(df_name[feature_number])\n",
    "OutLiersBox(df_t,df_name[feature_number])"
   ]
  },
  {
   "cell_type": "code",
   "execution_count": null,
   "metadata": {
    "execution": {
     "iopub.status.busy": "2023-05-08T01:47:47.411692Z",
     "iopub.status.idle": "2023-05-08T01:47:47.412260Z"
    }
   },
   "outputs": [],
   "source": [
    "df_clean = TurkyOutliers(df_clean,df_name[feature_number],False)\n",
    "OutLiersBox(df_clean,df_name[feature_number])"
   ]
  },
  {
   "cell_type": "code",
   "execution_count": null,
   "metadata": {
    "execution": {
     "iopub.status.busy": "2023-05-08T01:47:47.412973Z",
     "iopub.status.idle": "2023-05-08T01:47:47.413508Z"
    }
   },
   "outputs": [],
   "source": [
    "hist_perc(df_clean.NumberOfOpenCreditLinesAndLoans,10,20,50)"
   ]
  },
  {
   "cell_type": "code",
   "execution_count": null,
   "metadata": {
    "execution": {
     "iopub.status.busy": "2023-05-08T01:47:47.414255Z",
     "iopub.status.idle": "2023-05-08T01:47:47.414888Z"
    }
   },
   "outputs": [],
   "source": [
    "df_clean.drop(df_clean[(df_clean.NumberOfOpenCreditLinesAndLoans>20)&(df_clean.SeriousDlqin2yrs==0)].index,inplace=True)"
   ]
  },
  {
   "cell_type": "code",
   "execution_count": null,
   "metadata": {
    "execution": {
     "iopub.status.busy": "2023-05-08T01:47:47.415627Z",
     "iopub.status.idle": "2023-05-08T01:47:47.416156Z"
    }
   },
   "outputs": [],
   "source": [
    "feature_number  = 7\n",
    "print(df_name[feature_number])\n",
    "OutLiersBox(df_t,df_name[feature_number])"
   ]
  },
  {
   "cell_type": "code",
   "execution_count": null,
   "metadata": {
    "execution": {
     "iopub.status.busy": "2023-05-08T01:47:47.417038Z",
     "iopub.status.idle": "2023-05-08T01:47:47.417835Z"
    }
   },
   "outputs": [],
   "source": [
    "df_clean = TurkyOutliers(df_clean,df_name[feature_number],False)\n",
    "OutLiersBox(df_clean,df_name[feature_number])"
   ]
  },
  {
   "cell_type": "code",
   "execution_count": null,
   "metadata": {
    "execution": {
     "iopub.status.busy": "2023-05-08T01:47:47.418585Z",
     "iopub.status.idle": "2023-05-08T01:47:47.419338Z"
    }
   },
   "outputs": [],
   "source": [
    "# df_clean.drop(df_clean[(df_clean.NumberOfTimes90DaysLate>90)&(df_clean.SeriousDlqin2yrs==0)].index,inplace=True)\n",
    "df_clean[(df_clean.NumberOfTimes90DaysLate>10)].SeriousDlqin2yrs.value_counts()"
   ]
  },
  {
   "cell_type": "code",
   "execution_count": null,
   "metadata": {
    "execution": {
     "iopub.status.busy": "2023-05-08T01:47:47.421016Z",
     "iopub.status.idle": "2023-05-08T01:47:47.421745Z"
    }
   },
   "outputs": [],
   "source": [
    "feature_number  = 8\n",
    "print(df_name[feature_number])\n",
    "OutLiersBox(df_t,df_name[feature_number])"
   ]
  },
  {
   "cell_type": "code",
   "execution_count": null,
   "metadata": {
    "execution": {
     "iopub.status.busy": "2023-05-08T01:47:47.422810Z",
     "iopub.status.idle": "2023-05-08T01:47:47.423359Z"
    }
   },
   "outputs": [],
   "source": [
    "df_clean = TurkyOutliers(df_clean,df_name[feature_number],False)\n",
    "OutLiersBox(df_clean,df_name[feature_number])"
   ]
  },
  {
   "cell_type": "code",
   "execution_count": null,
   "metadata": {
    "execution": {
     "iopub.status.busy": "2023-05-08T01:47:47.424201Z",
     "iopub.status.idle": "2023-05-08T01:47:47.424975Z"
    }
   },
   "outputs": [],
   "source": [
    "df_clean[(df_clean['NumberRealEstateLoansOrLines']>10)].SeriousDlqin2yrs.value_counts()"
   ]
  },
  {
   "cell_type": "code",
   "execution_count": null,
   "metadata": {
    "execution": {
     "iopub.status.busy": "2023-05-08T01:47:47.426025Z",
     "iopub.status.idle": "2023-05-08T01:47:47.426605Z"
    }
   },
   "outputs": [],
   "source": [
    "feature_number  = 9\n",
    "print(df_name[feature_number])\n",
    "OutLiersBox(df_t,df_name[feature_number])"
   ]
  },
  {
   "cell_type": "code",
   "execution_count": null,
   "metadata": {
    "execution": {
     "iopub.status.busy": "2023-05-08T01:47:47.427411Z",
     "iopub.status.idle": "2023-05-08T01:47:47.428084Z"
    }
   },
   "outputs": [],
   "source": [
    "df_clean = TurkyOutliers(df_clean,df_name[feature_number],False)\n",
    "OutLiersBox(df_clean,df_name[feature_number])"
   ]
  },
  {
   "cell_type": "code",
   "execution_count": null,
   "metadata": {
    "execution": {
     "iopub.status.busy": "2023-05-08T01:47:47.429170Z",
     "iopub.status.idle": "2023-05-08T01:47:47.429882Z"
    }
   },
   "outputs": [],
   "source": [
    "df_clean[(df_clean['NumberOfTime60-89DaysPastDueNotWorse']>10)].SeriousDlqin2yrs.value_counts()"
   ]
  },
  {
   "cell_type": "code",
   "execution_count": null,
   "metadata": {
    "execution": {
     "iopub.status.busy": "2023-05-08T01:47:47.430934Z",
     "iopub.status.idle": "2023-05-08T01:47:47.431723Z"
    }
   },
   "outputs": [],
   "source": [
    "feature_number  = 10\n",
    "print(df_name[feature_number])\n",
    "OutLiersBox(df_t,df_name[feature_number])"
   ]
  },
  {
   "cell_type": "code",
   "execution_count": null,
   "metadata": {
    "execution": {
     "iopub.status.busy": "2023-05-08T01:47:47.432556Z",
     "iopub.status.idle": "2023-05-08T01:47:47.433184Z"
    }
   },
   "outputs": [],
   "source": [
    "df_clean = TurkyOutliers(df_clean,df_name[feature_number],False)\n",
    "OutLiersBox(df_clean,df_name[feature_number])"
   ]
  },
  {
   "cell_type": "code",
   "execution_count": null,
   "metadata": {
    "execution": {
     "iopub.status.busy": "2023-05-08T01:47:47.434658Z",
     "iopub.status.idle": "2023-05-08T01:47:47.435333Z"
    }
   },
   "outputs": [],
   "source": [
    "df_clean[(df_clean['NumberOfDependents']>6)].SeriousDlqin2yrs.value_counts()"
   ]
  },
  {
   "cell_type": "code",
   "execution_count": null,
   "metadata": {
    "execution": {
     "iopub.status.busy": "2023-05-08T01:47:47.436344Z",
     "iopub.status.idle": "2023-05-08T01:47:47.436932Z"
    }
   },
   "outputs": [],
   "source": [
    "df_clean.drop(df_clean[(df_clean.NumberOfDependents>6)&(df_clean.SeriousDlqin2yrs==0)].index,inplace=True)"
   ]
  },
  {
   "cell_type": "code",
   "execution_count": null,
   "metadata": {
    "execution": {
     "iopub.status.busy": "2023-05-08T01:47:47.438045Z",
     "iopub.status.idle": "2023-05-08T01:47:47.438693Z"
    }
   },
   "outputs": [],
   "source": [
    "df_clean.SeriousDlqin2yrs.value_counts()"
   ]
  },
  {
   "cell_type": "code",
   "execution_count": null,
   "metadata": {
    "execution": {
     "iopub.status.busy": "2023-05-08T01:47:47.439735Z",
     "iopub.status.idle": "2023-05-08T01:47:47.440292Z"
    }
   },
   "outputs": [],
   "source": [
    "# New X_train Y Train with cleaned dataset\n",
    "\n",
    "X_train = df_clean.iloc[:,1:]\n",
    "Y_train = df_clean.iloc[:,0:1]\n",
    "\n",
    "print(X_train.shape,Y_train.shape)\n"
   ]
  },
  {
   "cell_type": "code",
   "execution_count": null,
   "metadata": {
    "execution": {
     "iopub.status.busy": "2023-05-08T01:47:47.441089Z",
     "iopub.status.idle": "2023-05-08T01:47:47.441761Z"
    }
   },
   "outputs": [],
   "source": [
    "ScoreCard"
   ]
  },
  {
   "cell_type": "code",
   "execution_count": null,
   "metadata": {
    "execution": {
     "iopub.status.busy": "2023-05-08T01:47:47.442325Z",
     "iopub.status.idle": "2023-05-08T01:47:47.442664Z"
    }
   },
   "outputs": [],
   "source": [
    "models = GetScaledModel('standard')\n",
    "names,results = BasedLine2(X_train, Y_train,models,'f1_weighted')\n",
    "PlotBoxR().PlotResult(names,results)\n",
    "scaledScoreStandardCW_Clean = ScoreDataFrame(names,results,'standard_f1_score_clean')\n",
    "ScoreCard = pd.concat([ScoreCard,\n",
    "                           scaledScoreStandardCW_Clean], axis=1)\n",
    "ScoreCard"
   ]
  },
  {
   "cell_type": "code",
   "execution_count": null,
   "metadata": {
    "execution": {
     "iopub.status.busy": "2023-05-08T01:47:47.443134Z",
     "iopub.status.idle": "2023-05-08T01:47:47.443445Z"
    }
   },
   "outputs": [],
   "source": [
    "models = GetScaledModel('minmax')\n",
    "names,results = BasedLine2(X_train, Y_train,models,'f1_weighted')\n",
    "PlotBoxR().PlotResult(names,results)\n",
    "\n",
    "scaledScoreMinMaxCW_clean = ScoreDataFrame(names,results,'minmax_f1_score_clean')\n",
    "ScoreCard = pd.concat([ScoreCard,\n",
    "                          scaledScoreMinMaxCW_clean], axis=1)\n",
    "ScoreCard"
   ]
  },
  {
   "cell_type": "markdown",
   "metadata": {},
   "source": [
    "###### FEATURE SELECTION"
   ]
  },
  {
   "cell_type": "code",
   "execution_count": null,
   "metadata": {
    "execution": {
     "iopub.status.busy": "2023-05-08T01:47:47.443981Z",
     "iopub.status.idle": "2023-05-08T01:47:47.444463Z"
    }
   },
   "outputs": [],
   "source": [
    "def HeatMap(df,x=True):\n",
    "        correlations = train_df.corr()\n",
    "        ## Create color map ranging between two colors\n",
    "        cmap = sns.diverging_palette(220, 10, as_cmap=True)\n",
    "        fig, ax = plt.subplots(figsize=(10, 10))\n",
    "        fig = sns.heatmap(correlations, cmap=cmap, vmax=1.0, center=0, fmt='.2f',square=True, linewidths=.5, annot=x, cbar_kws={\"shrink\": .75})\n",
    "        fig.set_xticklabels(fig.get_xticklabels(), rotation = 90, fontsize = 10)\n",
    "        fig.set_yticklabels(fig.get_yticklabels(), rotation = 0, fontsize = 10)\n",
    "        plt.tight_layout()\n",
    "        plt.show()\n",
    "\n",
    "HeatMap(train_df,x=True)\n"
   ]
  },
  {
   "cell_type": "code",
   "execution_count": null,
   "metadata": {
    "execution": {
     "iopub.status.busy": "2023-05-08T01:47:47.445290Z",
     "iopub.status.idle": "2023-05-08T01:47:47.445917Z"
    }
   },
   "outputs": [],
   "source": [
    "# Feature Importance\n",
    "\n",
    "clf = ExtraTreesClassifier(n_estimators=250,\n",
    "                              random_state=SEED)\n",
    "\n",
    "clf.fit(X_train, Y_train)\n",
    "\n",
    "# #############################################################################\n",
    "# Plot feature importance\n",
    "feature_importance = clf.feature_importances_\n",
    "# make importances relative to max importance\n",
    "feature_importance = 100.0 * (feature_importance / feature_importance.max())\n",
    "sorted_idx = np.argsort(feature_importance)\n",
    "pos = np.arange(sorted_idx.shape[0]) + .5\n",
    "plt.subplot(1, 2, 2)\n",
    "plt.barh(pos, feature_importance[sorted_idx], align='center')\n",
    "plt.yticks(pos, train_df.columns[sorted_idx])#boston.feature_names[sorted_idx])\n",
    "plt.xlabel('Relative Importance')\n",
    "plt.title('Variable Importance')\n",
    "plt.show()"
   ]
  },
  {
   "cell_type": "code",
   "execution_count": null,
   "metadata": {
    "execution": {
     "iopub.status.busy": "2023-05-08T01:47:47.446731Z",
     "iopub.status.idle": "2023-05-08T01:47:47.447239Z"
    }
   },
   "outputs": [],
   "source": [
    "X_train = df_clean[['NumberOfTime30-59DaysPastDueNotWorse','DebtRatio','MonthlyIncome','RevolvingUtilizationOfUnsecuredLines','NumberOfOpenCreditLinesAndLoans','age']]"
   ]
  },
  {
   "cell_type": "code",
   "execution_count": null,
   "metadata": {
    "execution": {
     "iopub.status.busy": "2023-05-08T01:47:47.448006Z",
     "iopub.status.idle": "2023-05-08T01:47:47.448765Z"
    }
   },
   "outputs": [],
   "source": [
    "print(X_train.shape,Y_train.shape)"
   ]
  },
  {
   "cell_type": "code",
   "execution_count": null,
   "metadata": {
    "execution": {
     "iopub.status.busy": "2023-05-08T01:47:47.449562Z",
     "iopub.status.idle": "2023-05-08T01:47:47.450250Z"
    },
    "scrolled": true
   },
   "outputs": [],
   "source": [
    "models = GetScaledModel('standard')\n",
    "names,results = BasedLine2(X_train, Y_train,models,'f1_weighted')\n",
    "PlotBoxR().PlotResult(names,results)\n",
    "scaledScoreStandardCW_Clean_VI = ScoreDataFrame(names,results,'standard_f1_score_clean_vi')\n"
   ]
  },
  {
   "cell_type": "code",
   "execution_count": null,
   "metadata": {
    "execution": {
     "iopub.status.busy": "2023-05-08T01:47:47.451059Z",
     "iopub.status.idle": "2023-05-08T01:47:47.451560Z"
    }
   },
   "outputs": [],
   "source": [
    "ScoreCard = pd.concat([ScoreCard,\n",
    "                           scaledScoreStandardCW_Clean_VI], axis=1)\n",
    "ScoreCard"
   ]
  },
  {
   "cell_type": "code",
   "execution_count": null,
   "metadata": {
    "execution": {
     "iopub.status.busy": "2023-05-08T01:47:47.452261Z",
     "iopub.status.idle": "2023-05-08T01:47:47.454363Z"
    }
   },
   "outputs": [],
   "source": [
    "#ScoreCard = pd.concat([ScoreCard.iloc[0:11,0:15],ScoreCard.iloc[0:11,19:20]],axis=1)\n"
   ]
  },
  {
   "cell_type": "code",
   "execution_count": null,
   "metadata": {
    "execution": {
     "iopub.status.busy": "2023-05-08T01:47:47.455242Z",
     "iopub.status.idle": "2023-05-08T01:47:47.455902Z"
    }
   },
   "outputs": [],
   "source": [
    "ScoreCard"
   ]
  },
  {
   "cell_type": "markdown",
   "metadata": {},
   "source": [
    "### HYPER PARAMETER TUNING"
   ]
  },
  {
   "cell_type": "code",
   "execution_count": null,
   "metadata": {
    "execution": {
     "iopub.status.busy": "2023-05-08T01:47:47.456987Z",
     "iopub.status.idle": "2023-05-08T01:47:47.457544Z"
    }
   },
   "outputs": [],
   "source": [
    "from sklearn.model_selection import GridSearchCV, RandomizedSearchCV\n",
    "from scipy.stats import uniform"
   ]
  },
  {
   "cell_type": "code",
   "execution_count": null,
   "metadata": {
    "execution": {
     "iopub.status.busy": "2023-05-08T01:47:47.458379Z",
     "iopub.status.idle": "2023-05-08T01:47:47.458975Z"
    }
   },
   "outputs": [],
   "source": [
    "\n",
    "X_test = test_df.sample(frac=0.1)[['SeriousDlqin2yrs','NumberOfTime30-59DaysPastDueNotWorse','DebtRatio','MonthlyIncome','RevolvingUtilizationOfUnsecuredLines','NumberOfOpenCreditLinesAndLoans','age']]\n",
    "X_test.drop(test_df[['SeriousDlqin2yrs']],axis=1,inplace=True)\n",
    "X_test = X_test.dropna()\n",
    "#Y_test = X_test['SeriousDlqin2yrs']\n",
    "\n"
   ]
  },
  {
   "cell_type": "code",
   "execution_count": null,
   "metadata": {
    "execution": {
     "iopub.status.busy": "2023-05-08T01:47:47.459779Z",
     "iopub.status.idle": "2023-05-08T01:47:47.460375Z"
    }
   },
   "outputs": [],
   "source": [
    "class RandomSearch(object):\n",
    "    \n",
    "    def __init__(self,X_train,y_train,model,hyperparameters):\n",
    "        \n",
    "        self.X_train = X_train\n",
    "        self.y_train = y_train\n",
    "        self.model = model\n",
    "        self.hyperparameters = hyperparameters\n",
    "        \n",
    "    def RandomSearch(self):\n",
    "        # Create randomized search 10-fold cross validation and 100 iterations\n",
    "        cv = 10\n",
    "        clf = RandomizedSearchCV(self.model,\n",
    "                                 self.hyperparameters,\n",
    "                                 random_state=1,\n",
    "                                 n_iter=100,\n",
    "                                 cv=cv,\n",
    "                                 verbose=0,\n",
    "                                 n_jobs=-1,\n",
    "                                 )\n",
    "        # Fit randomized search\n",
    "        best_model = clf.fit(self.X_train, self.y_train)\n",
    "        message = (best_model.best_score_, best_model.best_params_)\n",
    "        print(\"Best: %f using %s\" % (message))\n",
    "\n",
    "        return best_model,best_model.best_params_\n",
    "    \n",
    "    def BestModelPridict(self,X_test):\n",
    "        \n",
    "        best_model,_ = self.RandomSearch()\n",
    "        pred = best_model.predict(X_test)\n",
    "        return pred"
   ]
  },
  {
   "cell_type": "code",
   "execution_count": null,
   "metadata": {
    "execution": {
     "iopub.status.busy": "2023-05-08T01:47:47.461164Z",
     "iopub.status.idle": "2023-05-08T01:47:47.461670Z"
    }
   },
   "outputs": [],
   "source": [
    "class GridSearch(object):\n",
    "    \n",
    "    def __init__(self,X_train,y_train,model,hyperparameters):\n",
    "        \n",
    "        self.X_train = X_train\n",
    "        self.y_train = y_train\n",
    "        self.model = model\n",
    "        self.hyperparameters = hyperparameters\n",
    "        \n",
    "    def GridSearch(self):\n",
    "        # Create randomized search 10-fold cross validation and 100 iterations\n",
    "        cv = 10\n",
    "        clf = GridSearchCV(self.model,\n",
    "                                 self.hyperparameters,\n",
    "                                 cv=cv,\n",
    "                                 verbose=0,\n",
    "                                 n_jobs=-1,\n",
    "                                 )\n",
    "        # Fit randomized search\n",
    "        best_model = clf.fit(self.X_train, self.y_train)\n",
    "        message = (best_model.best_score_, best_model.best_params_)\n",
    "        print(\"Best: %f using %s\" % (message))\n",
    "\n",
    "        return best_model,best_model.best_params_\n",
    "    \n",
    "    def BestModelPridict(self,X_test):\n",
    "        \n",
    "        best_model,_ = self.GridSearch()\n",
    "        pred = best_model.predict(X_test)\n",
    "        return pred"
   ]
  },
  {
   "cell_type": "markdown",
   "metadata": {},
   "source": [
    "###### LOGISTIC REGRESSION"
   ]
  },
  {
   "cell_type": "code",
   "execution_count": null,
   "metadata": {
    "execution": {
     "iopub.status.busy": "2023-05-08T01:47:47.462344Z",
     "iopub.status.idle": "2023-05-08T01:47:47.462996Z"
    }
   },
   "outputs": [],
   "source": [
    "# model\n",
    "model = LogisticRegression()\n",
    "# Create regularization penalty space\n",
    "penalty = ['l1', 'l2']\n",
    "\n",
    "# Create regularization hyperparameter distribution using uniform distribution\n",
    "C = uniform(loc=0, scale=4)\n",
    "\n",
    "# Create hyperparameter options\n",
    "hyperparameters = dict(C=C, penalty=penalty)"
   ]
  },
  {
   "cell_type": "code",
   "execution_count": null,
   "metadata": {
    "execution": {
     "iopub.status.busy": "2023-05-08T01:47:47.463751Z",
     "iopub.status.idle": "2023-05-08T01:47:47.464652Z"
    }
   },
   "outputs": [],
   "source": [
    "LR_RandSearch = RandomSearch(X_train,Y_train,model,hyperparameters)\n",
    "LR_best_model,LR_best_params = LR_RandSearch.RandomSearch()\n",
    "Prediction_LR = LR_RandSearch.BestModelPridict(X_train)\n",
    "\n"
   ]
  },
  {
   "cell_type": "code",
   "execution_count": null,
   "metadata": {
    "execution": {
     "iopub.status.busy": "2023-05-08T01:47:47.465278Z",
     "iopub.status.idle": "2023-05-08T01:47:47.466025Z"
    }
   },
   "outputs": [],
   "source": [
    "cp = classification_report(Y_train,Prediction_LR)\n",
    "print(cp)\n",
    "\n",
    "\n"
   ]
  },
  {
   "cell_type": "code",
   "execution_count": null,
   "metadata": {
    "execution": {
     "iopub.status.busy": "2023-05-08T01:47:47.466773Z",
     "iopub.status.idle": "2023-05-08T01:47:47.467385Z"
    }
   },
   "outputs": [],
   "source": [
    "hpt = [['hptuningLR',floatingDecimals(0.929252,4),0.91]]\n",
    "hpt"
   ]
  },
  {
   "cell_type": "markdown",
   "metadata": {},
   "source": [
    "###### KNN"
   ]
  },
  {
   "cell_type": "code",
   "execution_count": null,
   "metadata": {
    "execution": {
     "iopub.status.busy": "2023-05-08T01:47:47.468092Z",
     "iopub.status.idle": "2023-05-08T01:47:47.468570Z"
    }
   },
   "outputs": [],
   "source": [
    "model_KNN = KNeighborsClassifier()\n",
    "\n",
    "neighbors = [1,2,3,4,5,6,7,8,9,10,11,12,13,14,15,16,17,18,19,20]\n",
    "param_grid = dict(n_neighbors=neighbors)"
   ]
  },
  {
   "cell_type": "code",
   "execution_count": null,
   "metadata": {
    "execution": {
     "iopub.status.busy": "2023-05-08T01:47:47.469208Z",
     "iopub.status.idle": "2023-05-08T01:47:47.469911Z"
    }
   },
   "outputs": [],
   "source": [
    "KNN_GridSearch = GridSearch(X_train,Y_train,model_KNN,param_grid)\n",
    "Prediction_KNN = KNN_GridSearch.BestModelPridict(X_train)\n"
   ]
  },
  {
   "cell_type": "code",
   "execution_count": null,
   "metadata": {
    "execution": {
     "iopub.status.busy": "2023-05-08T01:47:47.470885Z",
     "iopub.status.idle": "2023-05-08T01:47:47.471335Z"
    }
   },
   "outputs": [],
   "source": [
    "cp = classification_report(Y_train,Prediction_KNN)\n",
    "print(cp)\n"
   ]
  },
  {
   "cell_type": "code",
   "execution_count": null,
   "metadata": {
    "execution": {
     "iopub.status.busy": "2023-05-08T01:47:47.472068Z",
     "iopub.status.idle": "2023-05-08T01:47:47.472412Z"
    }
   },
   "outputs": [],
   "source": [
    "hpt.append(['modehptuningKNN',floatingDecimals(0.926401,4),0.89])"
   ]
  },
  {
   "cell_type": "code",
   "execution_count": null,
   "metadata": {
    "execution": {
     "iopub.status.busy": "2023-05-08T01:47:47.473139Z",
     "iopub.status.idle": "2023-05-08T01:47:47.473588Z"
    }
   },
   "outputs": [],
   "source": [
    "#### SVC Model ####"
   ]
  },
  {
   "cell_type": "code",
   "execution_count": null,
   "metadata": {
    "execution": {
     "iopub.status.busy": "2023-05-08T01:47:47.474251Z",
     "iopub.status.idle": "2023-05-08T01:47:47.474742Z"
    }
   },
   "outputs": [],
   "source": [
    "c_values = [0.1, 0.3, 0.5, 0.7, 0.9, 1.0, 1.3, 1.5, 1.7, 2.0]\n",
    "kernel_values = [ 'linear' , 'poly' , 'rbf' , 'sigmoid' ]\n",
    "param_grid = dict(C=c_values, kernel=kernel_values)\n",
    "model_SVC = SVC()"
   ]
  },
  {
   "cell_type": "code",
   "execution_count": null,
   "metadata": {
    "execution": {
     "iopub.status.busy": "2023-05-08T01:47:47.475367Z",
     "iopub.status.idle": "2023-05-08T01:47:47.475812Z"
    }
   },
   "outputs": [],
   "source": [
    "SVC_GridSearch = GridSearch(X_train,Y_train,model_SVC,param_grid,scoring='f1_weighted')\n",
    "Prediction_SVC = SVC_GridSearch.BestModelPridict(X_train)"
   ]
  },
  {
   "cell_type": "code",
   "execution_count": null,
   "metadata": {
    "execution": {
     "iopub.status.busy": "2023-05-08T01:47:47.476466Z",
     "iopub.status.idle": "2023-05-08T01:47:47.477065Z"
    }
   },
   "outputs": [],
   "source": [
    "#### Decision Tree ####"
   ]
  },
  {
   "cell_type": "code",
   "execution_count": null,
   "metadata": {
    "execution": {
     "iopub.status.busy": "2023-05-08T01:47:47.477814Z",
     "iopub.status.idle": "2023-05-08T01:47:47.478183Z"
    }
   },
   "outputs": [],
   "source": [
    "from scipy.stats import randint\n",
    "max_depth_value = [3, None]\n",
    "max_features_value =  randint(1, 4)\n",
    "min_samples_leaf_value = randint(1, 4)\n",
    "criterion_value = [\"gini\", \"entropy\"]"
   ]
  },
  {
   "cell_type": "code",
   "execution_count": null,
   "metadata": {
    "execution": {
     "iopub.status.busy": "2023-05-08T01:47:47.478672Z",
     "iopub.status.idle": "2023-05-08T01:47:47.479122Z"
    }
   },
   "outputs": [],
   "source": [
    "param_grid = dict(max_depth = max_depth_value,\n",
    "                  max_features = max_features_value,\n",
    "                  min_samples_leaf = min_samples_leaf_value,\n",
    "                  criterion = criterion_value)"
   ]
  },
  {
   "cell_type": "code",
   "execution_count": null,
   "metadata": {
    "execution": {
     "iopub.status.busy": "2023-05-08T01:47:47.479728Z",
     "iopub.status.idle": "2023-05-08T01:47:47.480094Z"
    }
   },
   "outputs": [],
   "source": [
    "model_CART = DecisionTreeClassifier()\n",
    "CART_RandSearch = RandomSearch(X_train,y_train,model_CART,param_grid)\n",
    "Prediction_CART = CART_RandSearch.BestModelPridict(X_train)\n"
   ]
  },
  {
   "cell_type": "code",
   "execution_count": null,
   "metadata": {
    "execution": {
     "iopub.status.busy": "2023-05-08T01:47:47.480824Z",
     "iopub.status.idle": "2023-05-08T01:47:47.481168Z"
    }
   },
   "outputs": [],
   "source": [
    "### ADABOOST CLASSIFIER ###"
   ]
  },
  {
   "cell_type": "code",
   "execution_count": null,
   "metadata": {
    "execution": {
     "iopub.status.busy": "2023-05-08T01:47:47.482109Z",
     "iopub.status.idle": "2023-05-08T01:47:47.482491Z"
    }
   },
   "outputs": [],
   "source": [
    "learning_rate_value = [.01,.05,.1,.5,1]\n",
    "n_estimators_value = [50,100,150,200,250,300]\n",
    "\n",
    "param_grid = dict(learning_rate=learning_rate_value, n_estimators=n_estimators_value)\n"
   ]
  },
  {
   "cell_type": "code",
   "execution_count": null,
   "metadata": {
    "execution": {
     "iopub.status.busy": "2023-05-08T01:47:47.483179Z",
     "iopub.status.idle": "2023-05-08T01:47:47.483787Z"
    }
   },
   "outputs": [],
   "source": [
    "model_Ad = AdaBoostClassifier()\n",
    "Ad_GridSearch = GridSearch(X_train,Y_train,model_Ad,param_grid)\n",
    "Prediction_Ad = Ad_GridSearch.BestModelPridict(X_train)\n"
   ]
  },
  {
   "cell_type": "code",
   "execution_count": null,
   "metadata": {
    "execution": {
     "iopub.status.busy": "2023-05-08T01:47:47.484457Z",
     "iopub.status.idle": "2023-05-08T01:47:47.485074Z"
    }
   },
   "outputs": [],
   "source": [
    "#### RANDOM FOREST ####"
   ]
  },
  {
   "cell_type": "code",
   "execution_count": null,
   "metadata": {
    "execution": {
     "iopub.status.busy": "2023-05-08T01:47:47.485761Z",
     "iopub.status.idle": "2023-05-08T01:47:47.486882Z"
    }
   },
   "outputs": [],
   "source": [
    "n_estimators_value = [50,100,150,200,250,300]\n",
    "criterion_val = [\"gini\", \"entropy\"]\n",
    "\n",
    "param_grid = dict(criterion=criterion_val, n_estimators=n_estimators_value)"
   ]
  },
  {
   "cell_type": "code",
   "execution_count": null,
   "metadata": {
    "execution": {
     "iopub.status.busy": "2023-05-08T01:47:47.487591Z",
     "iopub.status.idle": "2023-05-08T01:47:47.488063Z"
    }
   },
   "outputs": [],
   "source": [
    "model_RF = RandomForestClassifier()\n",
    "GB_GridSearch = GridSearch(X_train,Y_train,model_RF,param_grid)\n",
    "Prediction_GB = GB_GridSearch.BestModelPridict(X_train)"
   ]
  },
  {
   "cell_type": "code",
   "execution_count": null,
   "metadata": {
    "execution": {
     "iopub.status.busy": "2023-05-08T01:47:47.488749Z",
     "iopub.status.idle": "2023-05-08T01:47:47.490380Z"
    }
   },
   "outputs": [],
   "source": [
    "#### VOTING ENSEMBLE ####"
   ]
  },
  {
   "cell_type": "code",
   "execution_count": null,
   "metadata": {
    "execution": {
     "iopub.status.busy": "2023-05-08T01:47:47.491402Z",
     "iopub.status.idle": "2023-05-08T01:47:47.491866Z"
    }
   },
   "outputs": [],
   "source": [
    "from sklearn.ensemble import VotingClassifier"
   ]
  },
  {
   "cell_type": "code",
   "execution_count": null,
   "metadata": {
    "execution": {
     "iopub.status.busy": "2023-05-08T01:47:47.492665Z",
     "iopub.status.idle": "2023-05-08T01:47:47.493226Z"
    }
   },
   "outputs": [],
   "source": [
    "param = {'C': 0.7678243129497218, 'penalty': 'l1'}\n",
    "model1 = LogisticRegression(**param)\n",
    "\n",
    "param = {'n_neighbors': 15}\n",
    "model2 = KNeighborsClassifier(**param)\n",
    "\n",
    "param = {'C': 1.7, 'kernel': 'linear'}\n",
    "model3 = SVC(**param)\n",
    "\n",
    "param = {'criterion': 'gini', 'max_depth': 3, 'max_features': 2, 'min_samples_leaf': 3}\n",
    "model4 = DecisionTreeClassifier(**param)\n",
    "\n",
    "param = {'learning_rate': 0.05, 'n_estimators': 150}\n",
    "model5 = AdaBoostClassifier(**param)\n",
    "\n",
    "param = {'learning_rate': 0.01, 'n_estimators': 100}\n",
    "model6 = GradientBoostingClassifier(**param)\n",
    "\n",
    "model7 = GaussianNB()\n",
    "\n",
    "model8 = RandomForestClassifier()\n",
    "\n",
    "model9 = ExtraTreesClassifier()"
   ]
  },
  {
   "cell_type": "code",
   "execution_count": null,
   "metadata": {
    "execution": {
     "iopub.status.busy": "2023-05-08T01:47:47.494051Z",
     "iopub.status.idle": "2023-05-08T01:47:47.495164Z"
    }
   },
   "outputs": [],
   "source": [
    "# create the sub models\n",
    "estimators = [('LR',model1), ('KNN',model2), ('SVC',model3),\n",
    "              ('DT',model4), ('ADa',model5), ('GB',model6),\n",
    "              ('NB',model7), ('RF',model8),  ('ET',model9)]"
   ]
  },
  {
   "cell_type": "code",
   "execution_count": null,
   "metadata": {
    "execution": {
     "iopub.status.busy": "2023-05-08T01:47:47.495846Z",
     "iopub.status.idle": "2023-05-08T01:47:47.496363Z"
    }
   },
   "outputs": [],
   "source": [
    "# create the ensemble model\n",
    "kfold = StratifiedKFold(n_splits=10, random_state=SEED)\n",
    "ensemble = VotingClassifier(estimators)\n",
    "results = cross_val_score(ensemble, X_train,Y_train, cv=kfold)\n",
    "print('Accuracy on train: ',results.mean())\n",
    "ensemble_model = ensemble.fit(X_train,Y_train)\n",
    "pred = ensemble_model.predict(X_test)\n",
    ";"
   ]
  },
  {
   "cell_type": "code",
   "execution_count": null,
   "metadata": {
    "execution": {
     "iopub.status.busy": "2023-05-08T01:47:47.497244Z",
     "iopub.status.idle": "2023-05-08T01:47:47.506146Z"
    }
   },
   "outputs": [],
   "source": [
    "def get_models():\n",
    "    \"\"\"Generate a library of base learners.\"\"\"\n",
    "    param = {'C': 0.7678243129497218, 'penalty': 'l1'}\n",
    "    model1 = LogisticRegression(**param)\n",
    "\n",
    "    param = {'n_neighbors': 15}\n",
    "    model2 = KNeighborsClassifier(**param)\n",
    "\n",
    "    param = {'C': 1.7, 'kernel': 'linear', 'probability':True}\n",
    "    model3 = SVC(**param)\n",
    "\n",
    "    param = {'criterion': 'gini', 'max_depth': 3, 'max_features': 2, 'min_samples_leaf': 3}\n",
    "    model4 = DecisionTreeClassifier(**param)\n",
    "\n",
    "    param = {'learning_rate': 0.05, 'n_estimators': 150}\n",
    "    model5 = AdaBoostClassifier(**param)\n",
    "\n",
    "    param = {'learning_rate': 0.01, 'n_estimators': 100}\n",
    "    model6 = GradientBoostingClassifier(**param)\n",
    "\n",
    "    model7 = GaussianNB()\n",
    "\n",
    "    model8 = RandomForestClassifier()\n",
    "\n",
    "    model9 = ExtraTreesClassifier()\n",
    "\n",
    "    models = {'LR':model1, 'KNN':model2, 'SVC':model3,\n",
    "              'DT':model4, 'ADa':model5, 'GB':model6,\n",
    "              'NB':model7, 'RF':model8,  'ET':model9\n",
    "              }\n",
    "\n",
    "    return models"
   ]
  },
  {
   "cell_type": "code",
   "execution_count": null,
   "metadata": {
    "execution": {
     "iopub.status.busy": "2023-05-08T01:47:47.507724Z",
     "iopub.status.idle": "2023-05-08T01:47:47.508743Z"
    }
   },
   "outputs": [],
   "source": [
    "##### ERROR CORRELATION ####"
   ]
  },
  {
   "cell_type": "code",
   "execution_count": null,
   "metadata": {
    "execution": {
     "iopub.status.busy": "2023-05-08T01:47:47.509524Z",
     "iopub.status.idle": "2023-05-08T01:47:47.514166Z"
    }
   },
   "outputs": [],
   "source": [
    "def train_predict(model_list,xtrain, xtest, ytrain, ytest):\n",
    "    \"\"\"Fit models in list on training set and return preds\"\"\"\n",
    "    P = np.zeros((ytest.shape[0], len(model_list)))\n",
    "    P = pd.DataFrame(P)\n",
    "\n",
    "    print(\"Fitting models.\")\n",
    "    cols = list()\n",
    "    for i, (name, m) in enumerate(models.items()):\n",
    "        print(\"%s...\" % name, end=\" \", flush=False)\n",
    "        m.fit(xtrain, ytrain)\n",
    "        P.iloc[:, i] = m.predict_proba(xtest)[:, 1]\n",
    "        cols.append(name)\n",
    "        print(\"done\")\n",
    "\n",
    "    P.columns = cols\n",
    "    print(\"Done.\\n\")\n",
    "    return P"
   ]
  },
  {
   "cell_type": "code",
   "execution_count": null,
   "metadata": {
    "execution": {
     "iopub.status.busy": "2023-05-08T01:47:47.515163Z",
     "iopub.status.idle": "2023-05-08T01:47:47.515952Z"
    }
   },
   "outputs": [],
   "source": [
    "models = get_models()\n",
    "P = train_predict(models,X_train,X_test,Y_train,Y_test)"
   ]
  },
  {
   "cell_type": "code",
   "execution_count": null,
   "metadata": {
    "execution": {
     "iopub.status.busy": "2023-05-08T01:47:47.517045Z",
     "iopub.status.idle": "2023-05-08T01:47:47.517750Z"
    }
   },
   "outputs": [],
   "source": [
    "! pip install mlens\n",
    "from mlens.visualization import corrmat\n",
    "\n",
    "corrmat(P.corr(), inflate=False)"
   ]
  },
  {
   "cell_type": "code",
   "execution_count": null,
   "metadata": {
    "execution": {
     "iopub.status.busy": "2023-05-08T01:47:47.518965Z",
     "iopub.status.idle": "2023-05-08T01:47:47.519512Z"
    }
   },
   "outputs": [],
   "source": [
    "base_learners = get_models()\n",
    "meta_learner = GradientBoostingClassifier(\n",
    "    n_estimators=1000,\n",
    "    loss=\"exponential\",\n",
    "    max_features=6,\n",
    "    max_depth=3,\n",
    "    subsample=0.5,\n",
    "    learning_rate=0.001, \n",
    "    random_state=SEED\n",
    ")"
   ]
  },
  {
   "cell_type": "code",
   "execution_count": null,
   "metadata": {
    "execution": {
     "iopub.status.busy": "2023-05-08T01:47:47.520231Z",
     "iopub.status.idle": "2023-05-08T01:47:47.521065Z"
    }
   },
   "outputs": [],
   "source": [
    "base_learners"
   ]
  },
  {
   "cell_type": "code",
   "execution_count": null,
   "metadata": {
    "execution": {
     "iopub.status.busy": "2023-05-08T01:47:47.521746Z",
     "iopub.status.idle": "2023-05-08T01:47:47.522376Z"
    }
   },
   "outputs": [],
   "source": [
    "from mlens.ensemble import SuperLearner\n",
    "\n",
    "# Instantiate the ensemble with 10 folds\n",
    "sl = SuperLearner(\n",
    "    folds=10,\n",
    "    random_state=SEED,\n",
    "    verbose=2,\n",
    "    backend=\"multiprocessing\"\n",
    ")\n",
    "\n",
    "# Add the base learners and the meta learner\n",
    "sl.add(list(base_learners.values()), proba=True) \n",
    "sl.add_meta(meta_learner, proba=True)\n",
    "\n",
    "# Train the ensemble\n",
    "sl.fit(X_train, Y_train)\n",
    "\n",
    "# Predict the test set\n",
    "p_sl = sl.predict_proba(X_test)\n",
    "\n",
    "# print(\"\\nSuper Learner ROC-AUC score: %.3f\" % roc_auc_score(y_test_sc, p_sl[:, 1]))"
   ]
  },
  {
   "cell_type": "code",
   "execution_count": null,
   "metadata": {
    "execution": {
     "iopub.status.busy": "2023-05-08T01:47:47.523006Z",
     "iopub.status.idle": "2023-05-08T01:47:47.523578Z"
    }
   },
   "outputs": [],
   "source": [
    "pp = []\n",
    "for p in p_sl[:, 1]:\n",
    "    if p>0.5:\n",
    "        pp.append(1.)\n",
    "    else:\n",
    "        pp.append(0.)"
   ]
  },
  {
   "cell_type": "code",
   "execution_count": null,
   "metadata": {
    "execution": {
     "iopub.status.busy": "2023-05-08T01:47:47.524307Z",
     "iopub.status.idle": "2023-05-08T01:47:47.524831Z"
    }
   },
   "outputs": [],
   "source": [
    "(Y_test == pp).mean()"
   ]
  }
 ],
 "metadata": {
  "kernelspec": {
   "display_name": "Python 3",
   "language": "python",
   "name": "python3"
  },
  "language_info": {
   "codemirror_mode": {
    "name": "ipython",
    "version": 3
   },
   "file_extension": ".py",
   "mimetype": "text/x-python",
   "name": "python",
   "nbconvert_exporter": "python",
   "pygments_lexer": "ipython3",
   "version": "3.8.3"
  }
 },
 "nbformat": 4,
 "nbformat_minor": 4
}
