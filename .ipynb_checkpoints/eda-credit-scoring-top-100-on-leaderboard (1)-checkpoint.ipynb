{
 "cells": [
  {
   "cell_type": "markdown",
   "metadata": {},
   "source": [
    "# Exploratory Data Analysis - Preparing for one of the top performing models\n",
    "\n",
    "In this notebook, an exploratory data analysis is performed on Give Me Some Credit's training set and preprocessing steps will be listed. These preprocessing steps will be the preparatory work for training a XGBoost model on the dataset, which is able to attain private and public scores of **0.86756** and **0.86104** respectively. The private and public scores are ranked top 100 and top 130 respectively (at the point of time of submitting this notebook).\n",
    "\n",
    "More comprehensive README and Python scripts can be found at \n",
    "\n",
    "https://github.com/nicholaslaw/kaggle-credit-scoring\n",
    "\n",
    "## Table of Contents\n",
    "\n",
    "1. [Import Packages](#1)\n",
    "2. [Import Data](#2)\n",
    "3. [EDA](#3)\n",
    "4. [Preprocessing Suggestions](#4)\n",
    "5. [References](#5)"
   ]
  },
  {
   "cell_type": "markdown",
   "metadata": {},
   "source": [
    "## Import Packages <a class=\"anchor\" id=\"1\"></a>"
   ]
  },
  {
   "cell_type": "code",
   "execution_count": null,
   "metadata": {
    "_cell_guid": "b1076dfc-b9ad-4769-8c92-a6c4dae69d19",
    "_uuid": "8f2839f25d086af736a60e9eeb907d3b93b6e0e5"
   },
   "outputs": [],
   "source": [
    "import numpy as np \n",
    "import pandas as pd \n",
    "import matplotlib.pyplot as plt\n",
    "import seaborn as sns\n",
    "%matplotlib inline\n",
    "import os\n",
    "for dirname, _, filenames in os.walk('/kaggle/input'):\n",
    "    for filename in filenames:\n",
    "        print(os.path.join(dirname, filename))"
   ]
  },
  {
   "cell_type": "markdown",
   "metadata": {},
   "source": [
    "## Import Data <a class=\"anchor\" id=\"2\"></a>"
   ]
  },
  {
   "cell_type": "code",
   "execution_count": null,
   "metadata": {
    "_cell_guid": "79c7e3d0-c299-4dcb-8224-4455121ee9b0",
    "_uuid": "d629ff2d2480ee46fbb7e2d37f6b5fab8052498a"
   },
   "outputs": [],
   "source": [
    "df = pd.read_csv(\"/kaggle/input/GiveMeSomeCredit/cs-training.csv\")\n",
    "df.head()"
   ]
  },
  {
   "cell_type": "markdown",
   "metadata": {},
   "source": [
    "## EDA <a class=\"anchor\" id=\"3\"></a>\n",
    "\n",
    "- Around 6% of samples defaulted\n",
    "- MonthlyIncome and NumberOfDependents have 29731 (19.82%) and 3924 (2.61%) null values respectively\n",
    "- We also notice that when NumberOfTimes90DaysLate has values above 17, there are 267 instances where the three columns NumberOfTimes90DaysLate, NumberOfTime60-89DaysPastDueNotWorse, NumberOfTime30-59DaysPastDueNotWorse share the same values, specifically 96 and 98.\n",
    "    - We can see that sharing the same values of 96 and 98 respectively is not logical since trivial calculations can reveal that being 30 days past due for 96 times for a single person within a timespan of 2 years is not possible.\n",
    "- RevolvingUtilizationOfUnsecuredLines\n",
    "    - Defined as ratio of the total amount of money owed to total credit limit\n",
    "    - distribution of values is right-skewed, consider removing outliers\n",
    "    - It is expected that as this value increases, the proportion of people defaulting should increase as well\n",
    "    - However, we can see that as the minimum value of this column is set to 13, the proportion of defaulters is smaller than that belonging to the pool of clients with total amount of money owed not exceeding total credit limit.\n",
    "    - Thus we should remove those samples with RevolvingUtilizationOfUnsecuredLines's value more than equal to 13\n",
    "- age\n",
    "    - There seems to be more younger people defaulting and the distribution seems fine on the whole\n",
    "- NumberOfTimes90DaysLate\n",
    "    - It is interesting to note that there are no one who is 90 or more days past due between 17 and 96 times.\n",
    "- NumberOfTime60-89DaysPastDueNotWorse\n",
    "    - It is interesting to note that there are no one who is 60-89 days past due between 11 and 96 times.\n",
    "- NumberOfTime30-59DaysPastDueNotWorse\n",
    "    - It is interesting to note that there are no one who is 30-59 days past due between 13 and 96 times.\n",
    "- DebtRatio\n",
    "    - 2.5% of clients owe around 3490 or more times what they own\n",
    "    - For the people who have monthly income in this 2.5%, only 185 people have values for their monthly incomes and the values are either 0 or 1.\n",
    "    - There are 164 out of these 185 people who are of two different types, first with no monthly income and does not default and second with monthly income and does default.\n",
    "- MonthlyIncome\n",
    "    - Distribution of values is skewed, we can consider imputation with median.\n",
    "    - We can also consider imputing with normally distributed values with its mean and standard deviation.\n",
    "- Numberof Dependents\n",
    "    - We can consider imputing with its mode, which is zero."
   ]
  },
  {
   "cell_type": "markdown",
   "metadata": {},
   "source": [
    "### Derive Balance of Classes"
   ]
  },
  {
   "cell_type": "code",
   "execution_count": null,
   "metadata": {},
   "outputs": [],
   "source": [
    "sns.countplot(x=\"SeriousDlqin2yrs\", data=df)\n",
    "print(\"Proportion of People Who Defaulted: {}\".format(df[\"SeriousDlqin2yrs\"].sum() / len(df)))"
   ]
  },
  {
   "cell_type": "markdown",
   "metadata": {},
   "source": [
    "### Null Values and Proportions"
   ]
  },
  {
   "cell_type": "code",
   "execution_count": null,
   "metadata": {},
   "outputs": [],
   "source": [
    "null_val_sums = df.isnull().sum()\n",
    "pd.DataFrame({\"Column\": null_val_sums.index, \"Number of Null Values\": null_val_sums.values,\n",
    "             \"Proportion\": null_val_sums.values / len(df) })"
   ]
  },
  {
   "cell_type": "markdown",
   "metadata": {},
   "source": [
    "### RevolvingUtilizationOfUnsecuredLines"
   ]
  },
  {
   "cell_type": "code",
   "execution_count": null,
   "metadata": {},
   "outputs": [],
   "source": [
    "df[\"RevolvingUtilizationOfUnsecuredLines\"].describe()"
   ]
  },
  {
   "cell_type": "code",
   "execution_count": null,
   "metadata": {},
   "outputs": [],
   "source": [
    "sns.distplot(df[\"RevolvingUtilizationOfUnsecuredLines\"])"
   ]
  },
  {
   "cell_type": "code",
   "execution_count": null,
   "metadata": {},
   "outputs": [],
   "source": [
    "default_prop = []\n",
    "for i in range(int(df[\"RevolvingUtilizationOfUnsecuredLines\"].max())):\n",
    "    temp_ = df.loc[df[\"RevolvingUtilizationOfUnsecuredLines\"] >= i]\n",
    "    default_prop.append([i, temp_[\"SeriousDlqin2yrs\"].mean()])\n",
    "default_prop"
   ]
  },
  {
   "cell_type": "code",
   "execution_count": null,
   "metadata": {},
   "outputs": [],
   "source": [
    "sns.lineplot(x=[i[0] for i in default_prop], y=[i[1] for i in default_prop])\n",
    "plt.title(\"Proportion of Defaulters As Minimum RUUL Increases\")"
   ]
  },
  {
   "cell_type": "code",
   "execution_count": null,
   "metadata": {},
   "outputs": [],
   "source": [
    "print(\"Proportion of Defaulters with Total Amount of Money Owed Not Exceeding Total Credit Limit: {}\"\\\n",
    "     .format(df.loc[(df[\"RevolvingUtilizationOfUnsecuredLines\"] >= 0) & (df[\"RevolvingUtilizationOfUnsecuredLines\"] <= 1)][\"SeriousDlqin2yrs\"].mean()))"
   ]
  },
  {
   "cell_type": "code",
   "execution_count": null,
   "metadata": {},
   "outputs": [],
   "source": [
    "print(\"Proportion of Defaulters with Total Amount of Money Owed Not Exceeding or Equal to 13 times of Total Credit Limit:\\n{}\"\\\n",
    "     .format(df.loc[(df[\"RevolvingUtilizationOfUnsecuredLines\"] >= 0) & (df[\"RevolvingUtilizationOfUnsecuredLines\"] < 13)][\"SeriousDlqin2yrs\"].mean()))"
   ]
  },
  {
   "cell_type": "markdown",
   "metadata": {},
   "source": [
    "### age"
   ]
  },
  {
   "cell_type": "code",
   "execution_count": null,
   "metadata": {},
   "outputs": [],
   "source": [
    "df[\"age\"].describe()"
   ]
  },
  {
   "cell_type": "code",
   "execution_count": null,
   "metadata": {},
   "outputs": [],
   "source": [
    "sns.distplot(df[\"age\"])"
   ]
  },
  {
   "cell_type": "code",
   "execution_count": null,
   "metadata": {},
   "outputs": [],
   "source": [
    "sns.distplot(df.loc[df[\"SeriousDlqin2yrs\"] == 0][\"age\"])"
   ]
  },
  {
   "cell_type": "code",
   "execution_count": null,
   "metadata": {},
   "outputs": [],
   "source": [
    "sns.distplot(df.loc[df[\"SeriousDlqin2yrs\"] == 1][\"age\"])"
   ]
  },
  {
   "cell_type": "markdown",
   "metadata": {},
   "source": [
    "### Late Payment Columns\n",
    "\n",
    "- NumberOfTimes90DaysLate\n",
    "- NumberOfTime60-89DaysPastDueNotWorse\n",
    "- NumberOfTime30-59DaysPastDueNotWorse"
   ]
  },
  {
   "cell_type": "code",
   "execution_count": null,
   "metadata": {},
   "outputs": [],
   "source": [
    "late_pay_cols = [\"NumberOfTimes90DaysLate\", \"NumberOfTime60-89DaysPastDueNotWorse\",\n",
    "                \"NumberOfTime30-59DaysPastDueNotWorse\"]\n",
    "df[\"NumberOfTimes90DaysLate\"].value_counts().sort_index()"
   ]
  },
  {
   "cell_type": "code",
   "execution_count": null,
   "metadata": {},
   "outputs": [],
   "source": [
    "df[\"NumberOfTime60-89DaysPastDueNotWorse\"].value_counts().sort_index()"
   ]
  },
  {
   "cell_type": "code",
   "execution_count": null,
   "metadata": {},
   "outputs": [],
   "source": [
    "df[\"NumberOfTime30-59DaysPastDueNotWorse\"].value_counts().sort_index()"
   ]
  },
  {
   "cell_type": "code",
   "execution_count": null,
   "metadata": {},
   "outputs": [],
   "source": [
    "df.loc[df[\"NumberOfTimes90DaysLate\"] > 17][late_pay_cols].describe()"
   ]
  },
  {
   "cell_type": "code",
   "execution_count": null,
   "metadata": {},
   "outputs": [],
   "source": [
    "distinct_triples_counts = dict()\n",
    "for arr in df.loc[df[\"NumberOfTimes90DaysLate\"] > 17][late_pay_cols].values:\n",
    "    triple = \",\".join(list(map(str, arr)))\n",
    "    if triple not in distinct_triples_counts:\n",
    "        distinct_triples_counts[triple] = 0\n",
    "    else:\n",
    "        distinct_triples_counts[triple] += 1\n",
    "distinct_triples_counts"
   ]
  },
  {
   "cell_type": "markdown",
   "metadata": {},
   "source": [
    "### DebtRatio"
   ]
  },
  {
   "cell_type": "code",
   "execution_count": null,
   "metadata": {},
   "outputs": [],
   "source": [
    "df[\"DebtRatio\"].describe()"
   ]
  },
  {
   "cell_type": "code",
   "execution_count": null,
   "metadata": {},
   "outputs": [],
   "source": [
    "df[\"DebtRatio\"].quantile(0.95)"
   ]
  },
  {
   "cell_type": "code",
   "execution_count": null,
   "metadata": {},
   "outputs": [],
   "source": [
    "df.loc[df[\"DebtRatio\"] > df[\"DebtRatio\"].quantile(0.95)][[\"DebtRatio\", \"MonthlyIncome\", \"SeriousDlqin2yrs\"]].describe()"
   ]
  },
  {
   "cell_type": "code",
   "execution_count": null,
   "metadata": {},
   "outputs": [],
   "source": [
    "len(df[(df[\"DebtRatio\"] > df[\"DebtRatio\"].quantile(0.95)) & (df['SeriousDlqin2yrs'] == df['MonthlyIncome'])])"
   ]
  },
  {
   "cell_type": "code",
   "execution_count": null,
   "metadata": {},
   "outputs": [],
   "source": [
    "df.loc[df[\"DebtRatio\"] > df[\"DebtRatio\"].quantile(0.95)][\"MonthlyIncome\"].value_counts()"
   ]
  },
  {
   "cell_type": "code",
   "execution_count": null,
   "metadata": {},
   "outputs": [],
   "source": [
    "print(\"Number of people who owe around 2449 or more times what they own and have same values for MonthlyIncome and SeriousDlqin2yrs: {}\"\\\n",
    "     .format(len(df.loc[(df[\"DebtRatio\"] > df[\"DebtRatio\"].quantile(0.95)) & (df[\"MonthlyIncome\"] == df[\"SeriousDlqin2yrs\"])])))"
   ]
  },
  {
   "cell_type": "code",
   "execution_count": null,
   "metadata": {},
   "outputs": [],
   "source": [
    "df[\"DebtRatio\"].quantile(0.975)"
   ]
  },
  {
   "cell_type": "code",
   "execution_count": null,
   "metadata": {},
   "outputs": [],
   "source": [
    "df.loc[df[\"DebtRatio\"] > df[\"DebtRatio\"].quantile(0.975)][[\"DebtRatio\", \"MonthlyIncome\", \"SeriousDlqin2yrs\"]].describe()"
   ]
  },
  {
   "cell_type": "code",
   "execution_count": null,
   "metadata": {},
   "outputs": [],
   "source": [
    "len(df[(df[\"DebtRatio\"] > df[\"DebtRatio\"].quantile(0.975)) & (df['SeriousDlqin2yrs'] == df['MonthlyIncome'])])"
   ]
  },
  {
   "cell_type": "code",
   "execution_count": null,
   "metadata": {},
   "outputs": [],
   "source": [
    "df.loc[df[\"DebtRatio\"] > df[\"DebtRatio\"].quantile(0.975)][\"MonthlyIncome\"].value_counts()"
   ]
  },
  {
   "cell_type": "code",
   "execution_count": null,
   "metadata": {},
   "outputs": [],
   "source": [
    "print(\"Number of people who owe around 3490 or more times what they own and have same values for MonthlyIncome and SeriousDlqin2yrs: {}\"\\\n",
    "     .format(len(df.loc[(df[\"DebtRatio\"] > df[\"DebtRatio\"].quantile(0.975)) & (df[\"MonthlyIncome\"] == df[\"SeriousDlqin2yrs\"])])))"
   ]
  },
  {
   "cell_type": "markdown",
   "metadata": {},
   "source": [
    "### MonthlyIncome"
   ]
  },
  {
   "cell_type": "code",
   "execution_count": null,
   "metadata": {},
   "outputs": [],
   "source": [
    "sns.distplot(df[\"MonthlyIncome\"].dropna())"
   ]
  },
  {
   "cell_type": "code",
   "execution_count": null,
   "metadata": {},
   "outputs": [],
   "source": [
    "df[\"MonthlyIncome\"].describe()"
   ]
  },
  {
   "cell_type": "code",
   "execution_count": null,
   "metadata": {},
   "outputs": [],
   "source": [
    "sns.distplot(df.loc[df[\"DebtRatio\"] <= df[\"DebtRatio\"].quantile(0.975)][\"MonthlyIncome\"].dropna())"
   ]
  },
  {
   "cell_type": "markdown",
   "metadata": {},
   "source": [
    "### NumberOfOpenCreditLinesAndLoans"
   ]
  },
  {
   "cell_type": "code",
   "execution_count": null,
   "metadata": {},
   "outputs": [],
   "source": [
    "df[\"NumberOfOpenCreditLinesAndLoans\"].describe()"
   ]
  },
  {
   "cell_type": "code",
   "execution_count": null,
   "metadata": {},
   "outputs": [],
   "source": [
    "df[\"NumberOfOpenCreditLinesAndLoans\"].value_counts()"
   ]
  },
  {
   "cell_type": "code",
   "execution_count": null,
   "metadata": {},
   "outputs": [],
   "source": [
    "sns.distplot(df[\"NumberOfOpenCreditLinesAndLoans\"])"
   ]
  },
  {
   "cell_type": "markdown",
   "metadata": {},
   "source": [
    "### NumberRealEstateLoansOrLines"
   ]
  },
  {
   "cell_type": "code",
   "execution_count": null,
   "metadata": {},
   "outputs": [],
   "source": [
    "df[\"NumberRealEstateLoansOrLines\"].describe()"
   ]
  },
  {
   "cell_type": "code",
   "execution_count": null,
   "metadata": {},
   "outputs": [],
   "source": [
    "df[\"NumberRealEstateLoansOrLines\"].value_counts()"
   ]
  },
  {
   "cell_type": "code",
   "execution_count": null,
   "metadata": {},
   "outputs": [],
   "source": [
    "sns.countplot(x=\"NumberRealEstateLoansOrLines\", data=df.loc[df[\"NumberRealEstateLoansOrLines\"] <= 10])"
   ]
  },
  {
   "cell_type": "code",
   "execution_count": null,
   "metadata": {},
   "outputs": [],
   "source": [
    "df.loc[df[\"NumberRealEstateLoansOrLines\"] > 13][\"SeriousDlqin2yrs\"].describe()"
   ]
  },
  {
   "cell_type": "markdown",
   "metadata": {},
   "source": [
    "### NumberOfDependents"
   ]
  },
  {
   "cell_type": "code",
   "execution_count": null,
   "metadata": {},
   "outputs": [],
   "source": [
    "df[\"NumberOfDependents\"].describe()"
   ]
  },
  {
   "cell_type": "code",
   "execution_count": null,
   "metadata": {},
   "outputs": [],
   "source": [
    "df[\"NumberOfDependents\"].value_counts()"
   ]
  },
  {
   "cell_type": "code",
   "execution_count": null,
   "metadata": {},
   "outputs": [],
   "source": [
    "df.loc[df[\"NumberOfDependents\"] <= 10][\"SeriousDlqin2yrs\"].describe()"
   ]
  },
  {
   "cell_type": "code",
   "execution_count": null,
   "metadata": {},
   "outputs": [],
   "source": [
    "sns.countplot(x=\"NumberOfDependents\", data=df.loc[df[\"NumberOfDependents\"] <= 10])"
   ]
  },
  {
   "cell_type": "markdown",
   "metadata": {},
   "source": [
    "## Preprocessing Suggestions <a class=\"anchor\" id=\"4\"></a>\n",
    "\n",
    "- Remove samples with values of DebtRatio above its 97.5 percentile\n",
    "- Set 0 <= RevolvingUtilizationOfUnsecuredLines < 13\n",
    "- Set NumberOfTimes90DaysLate <= 17\n",
    "- Impute MonthlyIncome with its median, or with a normally distributed variable with MonthlyIncome's mean and standard deviation\n",
    "- Impute NumberOfDependents with its mode"
   ]
  },
  {
   "cell_type": "markdown",
   "metadata": {},
   "source": [
    "## References <a class=\"anchor\" id=\"5\"></a>\n",
    "\n",
    "https://github.com/nicholaslaw/kaggle-credit-scoring"
   ]
  }
 ],
 "metadata": {
  "kernelspec": {
   "display_name": "Python 3",
   "language": "python",
   "name": "python3"
  },
  "language_info": {
   "codemirror_mode": {
    "name": "ipython",
    "version": 3
   },
   "file_extension": ".py",
   "mimetype": "text/x-python",
   "name": "python",
   "nbconvert_exporter": "python",
   "pygments_lexer": "ipython3",
   "version": "3.8.3"
  }
 },
 "nbformat": 4,
 "nbformat_minor": 4
}
