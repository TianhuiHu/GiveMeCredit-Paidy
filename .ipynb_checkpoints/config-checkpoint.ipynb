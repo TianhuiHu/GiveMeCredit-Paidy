{
 "cells": [
  {
   "cell_type": "code",
   "execution_count": 1,
   "metadata": {},
   "outputs": [],
   "source": [
    "import os\n",
    "\n",
    "FOLDERS = {\n",
    "    \"preprocess\": \"./data/\",\n",
    "    \"train\": \"./model_output/\"\n",
    "}\n",
    "\n",
    "for folder in FOLDERS.values():\n",
    "    if not os.path.exists(folder):\n",
    "        os.makedirs(folder)\n",
    "\n",
    "PREPROCESS_CONFIGS = {\n",
    "    \"load\": {\n",
    "        \"raw_data\": FOLDERS[\"preprocess\"] + \"cs-training.csv\"\n",
    "    },\n",
    "    \"save\": {\n",
    "        \"preprocessed_data\": FOLDERS[\"preprocess\"] + \"preprocessed.csv\",\n",
    "        \"imputation\": FOLDERS[\"preprocess\"] + \"impute.p\"\n",
    "    },\n",
    "    \"impute\": False\n",
    "}\n",
    "\n",
    "TRAIN_CONFIGS = {\n",
    "    \"load\": {\n",
    "        \"preprocessed_data\": PREPROCESS_CONFIGS[\"save\"][\"preprocessed_data\"],\n",
    "    },\n",
    "    \"save\": {\n",
    "        \"model\": FOLDERS[\"train\"] + \"model.p\"\n",
    "    },\n",
    "    \"model_params\": {\n",
    "        'min_child_weight': list(range(1,10,2)),\n",
    "        'gamma':[i/10.0 for i in range(0,5)],\n",
    "        'subsample': [0.6, 0.8, 1.0],\n",
    "        'colsample_bytree':[i/10.0 for i in range(6,10)],\n",
    "        'max_depth':range(3,10,2),\n",
    "        'reg_alpha': [0, 0.001, 0.005, 0.01, 0.05, 0.1, 0.2],\n",
    "        'reg_lambda': [0, 0.001, 0.005, 0.01, 0.05, 0.2, 0.4, 0.6, 0.8, 1],\n",
    "        'learning_rate': [0.001, 0.002, 0.005, 0.006, 0.01, 0.02, 0.05, 0.1, 0.11, 0.12, 0.13, 0.14, 0.15, 0.2],\n",
    "        'n_estimators': [50, 100, 150, 200, 250, 300,350,400,450,500, 550, 600, 650, 700, 750],\n",
    "        \"booster\": [\"gbtree\", \"gblinear\", \"dart\"]\n",
    "        }\n",
    "}\n",
    "\n",
    "PRED_CONFIGS = {\n",
    "    \"load\": {\n",
    "        \"test_data\": FOLDERS[\"preprocess\"] + \"cs-test.csv\",\n",
    "        \"model\": TRAIN_CONFIGS[\"save\"][\"model\"],\n",
    "        \"imputation\": PREPROCESS_CONFIGS[\"save\"][\"imputation\"]\n",
    "    },\n",
    "    \"save\": {\n",
    "        \"predictions\": FOLDERS[\"train\"] + \"predictions.csv\"\n",
    "    },\n",
    "    \"impute\": PREPROCESS_CONFIGS[\"impute\"]\n",
    "}"
   ]
  },
  {
   "cell_type": "code",
   "execution_count": null,
   "metadata": {},
   "outputs": [],
   "source": []
  }
 ],
 "metadata": {
  "kernelspec": {
   "display_name": "Python 3",
   "language": "python",
   "name": "python3"
  },
  "language_info": {
   "codemirror_mode": {
    "name": "ipython",
    "version": 3
   },
   "file_extension": ".py",
   "mimetype": "text/x-python",
   "name": "python",
   "nbconvert_exporter": "python",
   "pygments_lexer": "ipython3",
   "version": "3.8.3"
  }
 },
 "nbformat": 4,
 "nbformat_minor": 4
}
